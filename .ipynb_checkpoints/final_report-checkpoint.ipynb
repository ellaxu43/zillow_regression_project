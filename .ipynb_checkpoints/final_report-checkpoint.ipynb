{
 "cells": [
  {
   "cell_type": "code",
   "execution_count": 5,
   "id": "8e10935e",
   "metadata": {},
   "outputs": [],
   "source": [
    "import pandas as pd\n",
    "import numpy as np\n",
    "import matplotlib.pyplot as plt\n",
    "from statsmodels.formula.api import ols\n",
    "import env\n",
    "import dataprep\n",
    "\n",
    "from scipy import stats\n",
    "from sklearn.metrics import mean_squared_error, r2_score, explained_variance_score\n",
    "\n",
    "from sklearn.linear_model import LinearRegression\n",
    "from sklearn.feature_selection import f_regression \n",
    "from math import sqrt\n",
    "import seaborn as sns\n",
    "import warnings\n",
    "warnings.filterwarnings('ignore')\n",
    "import math\n",
    "\n",
    "from sklearn.model_selection import train_test_split\n",
    "import sklearn.linear_model\n",
    "import sklearn.feature_selection\n",
    "import sklearn.preprocessing\n",
    "from scipy import stats\n",
    "from sklearn.feature_selection import SelectKBest, RFE, f_regression, SequentialFeatureSelector"
   ]
  },
  {
   "cell_type": "markdown",
   "id": "e614c683",
   "metadata": {},
   "source": [
    "# Predicting Home Values\n",
    "Ella Xu\n",
    "Junior Data Scientist | Zillow Data Science Team"
   ]
  },
  {
   "cell_type": "markdown",
   "id": "91ee55a4",
   "metadata": {},
   "source": [
    "# Goals\n",
    "Zillow has a model that is designed to predict the property tax assessed values ('taxvaluedollarcnt') of Single Family Properties that had a transaction during 2017. The goal of this project is to look for insights that can help possibly improve this model, and make recommendations on how to improve it.\n",
    "\n",
    "# Planning\n",
    "* Setup my repository environment (.gitignore, README.md)\n",
    "* Import and test my wrangle functions.\n",
    "* Define test for at least two hypotheses.\n",
    "* Train and evalurate three different regression models.\n",
    "* Report my conclusions and next steps in a presentation.\n",
    "\n",
    "\n",
    "# Executive Summary\n",
    "My polynomial model had a root mean squared error (RMSE) of \n",
    "$210698. \n",
    "\n",
    "Beating my baseline model RMSE of $ 34270\n",
    "\n",
    "The data suggest bathrooms, bedrooms, squarefeet and home age to be the most valued features. I recommend removing outliers from these columns to improve future modeling."
   ]
  },
  {
   "cell_type": "markdown",
   "id": "aa892bbb",
   "metadata": {},
   "source": [
    "# Acquiring the Data\n",
    "To acquire the Zillow data, I used the zillow database in the Codeup SQL server, and selected the requested columns. I then selected only Single Family Residential and Inferred Single Family Residential from the 2017 properties using propertylandusetypeid."
   ]
  },
  {
   "cell_type": "code",
   "execution_count": 6,
   "id": "5a26bc89",
   "metadata": {},
   "outputs": [
    {
     "name": "stdout",
     "output_type": "stream",
     "text": [
      "Acquiring data from SQL database\n"
     ]
    },
    {
     "data": {
      "text/html": [
       "<div>\n",
       "<style scoped>\n",
       "    .dataframe tbody tr th:only-of-type {\n",
       "        vertical-align: middle;\n",
       "    }\n",
       "\n",
       "    .dataframe tbody tr th {\n",
       "        vertical-align: top;\n",
       "    }\n",
       "\n",
       "    .dataframe thead th {\n",
       "        text-align: right;\n",
       "    }\n",
       "</style>\n",
       "<table border=\"1\" class=\"dataframe\">\n",
       "  <thead>\n",
       "    <tr style=\"text-align: right;\">\n",
       "      <th></th>\n",
       "      <th>bedrooms</th>\n",
       "      <th>bathrooms</th>\n",
       "      <th>area</th>\n",
       "      <th>tax_value</th>\n",
       "      <th>year_built</th>\n",
       "      <th>fips</th>\n",
       "    </tr>\n",
       "  </thead>\n",
       "  <tbody>\n",
       "    <tr>\n",
       "      <th>0</th>\n",
       "      <td>4.0</td>\n",
       "      <td>3.5</td>\n",
       "      <td>3100.0</td>\n",
       "      <td>1023282.0</td>\n",
       "      <td>1998.0</td>\n",
       "      <td>6059.0</td>\n",
       "    </tr>\n",
       "    <tr>\n",
       "      <th>1</th>\n",
       "      <td>2.0</td>\n",
       "      <td>1.0</td>\n",
       "      <td>1465.0</td>\n",
       "      <td>464000.0</td>\n",
       "      <td>1967.0</td>\n",
       "      <td>6111.0</td>\n",
       "    </tr>\n",
       "    <tr>\n",
       "      <th>2</th>\n",
       "      <td>3.0</td>\n",
       "      <td>2.0</td>\n",
       "      <td>1243.0</td>\n",
       "      <td>564778.0</td>\n",
       "      <td>1962.0</td>\n",
       "      <td>6059.0</td>\n",
       "    </tr>\n",
       "    <tr>\n",
       "      <th>3</th>\n",
       "      <td>4.0</td>\n",
       "      <td>3.0</td>\n",
       "      <td>2376.0</td>\n",
       "      <td>145143.0</td>\n",
       "      <td>1970.0</td>\n",
       "      <td>6037.0</td>\n",
       "    </tr>\n",
       "    <tr>\n",
       "      <th>4</th>\n",
       "      <td>4.0</td>\n",
       "      <td>3.0</td>\n",
       "      <td>2962.0</td>\n",
       "      <td>773303.0</td>\n",
       "      <td>1950.0</td>\n",
       "      <td>6037.0</td>\n",
       "    </tr>\n",
       "  </tbody>\n",
       "</table>\n",
       "</div>"
      ],
      "text/plain": [
       "   bedrooms  bathrooms    area  tax_value  year_built    fips\n",
       "0       4.0        3.5  3100.0  1023282.0      1998.0  6059.0\n",
       "1       2.0        1.0  1465.0   464000.0      1967.0  6111.0\n",
       "2       3.0        2.0  1243.0   564778.0      1962.0  6059.0\n",
       "3       4.0        3.0  2376.0   145143.0      1970.0  6037.0\n",
       "4       4.0        3.0  2962.0   773303.0      1950.0  6037.0"
      ]
     },
     "execution_count": 6,
     "metadata": {},
     "output_type": "execute_result"
    }
   ],
   "source": [
    "zillow = dataprep.get_zillow_data()\n",
    "zillow.head()\n",
    "#Chose bedrooms, bathrooms, area, year_built because these features are important when evaluate home value \n",
    "#Didn't include rest of the columns because I spent too long to clean the data\n",
    "#Too much nulls and outliers. "
   ]
  },
  {
   "cell_type": "code",
   "execution_count": 7,
   "id": "9affdb67",
   "metadata": {},
   "outputs": [
    {
     "data": {
      "text/plain": [
       "(52441, 6)"
      ]
     },
     "execution_count": 7,
     "metadata": {},
     "output_type": "execute_result"
    }
   ],
   "source": [
    "zillow.shape"
   ]
  },
  {
   "cell_type": "markdown",
   "id": "ccbf7250",
   "metadata": {},
   "source": [
    "# Cleaning the Data"
   ]
  },
  {
   "cell_type": "markdown",
   "id": "0944081b",
   "metadata": {},
   "source": [
    "* Rename the columns to make it easy to read. \n",
    "\n",
    "                               'bedroomcnt':'bedrooms', \n",
    "                              'bathroomcnt':'bathrooms', \n",
    "                              'calculatedfinishedsquarefeet':'area',\n",
    "                              'taxvaluedollarcnt':'tax_value', \n",
    "                              'yearbuilt':'year_built'."
   ]
  },
  {
   "cell_type": "markdown",
   "id": "ef880fe6",
   "metadata": {},
   "source": [
    "* Filtered out the transcation date of 2017 and property type as signle family. "
   ]
  },
  {
   "cell_type": "markdown",
   "id": "cf463e1f",
   "metadata": {},
   "source": [
    "* Removed outliers from 'bedrooms', 'bathrooms', 'squarefeet', and 'tax_value'.\n",
    "There were some extremely large houses with 15 bathrooms that I believed would not represent the average Single Family Residential. So I removed these with statistics upper and lower bounds. This is the best way that I found to deal with nulls in this dataset. "
   ]
  },
  {
   "cell_type": "markdown",
   "id": "516db810",
   "metadata": {},
   "source": [
    "*  Use fips number to find the county names. Rename the fips number with the correct county name, LA_county, orange_county, and ventura_county. Replace the null value with median value in year_built columns. Also,I replaced 1.75 bathrooms with 2.0 bathrooms count. \n"
   ]
  },
  {
   "cell_type": "markdown",
   "id": "52e48d2e",
   "metadata": {},
   "source": [
    "* Convert column datatypes, year_built and fips to object datatype. Make sure all datatypes are correct and ready to use. "
   ]
  },
  {
   "cell_type": "markdown",
   "id": "654a025a",
   "metadata": {},
   "source": [
    "* To make it easier to see how old a house was in 2017, feature engineering by adding a column named home_age."
   ]
  },
  {
   "cell_type": "markdown",
   "id": "7a184d94",
   "metadata": {},
   "source": [
    "* Split the data 80/20 train test split. 70/30 train validate split"
   ]
  },
  {
   "cell_type": "code",
   "execution_count": 8,
   "id": "9cff8604",
   "metadata": {},
   "outputs": [
    {
     "name": "stdout",
     "output_type": "stream",
     "text": [
      "Using cached csv\n"
     ]
    }
   ],
   "source": [
    "# Import the train, validate and test data from the function we made in dataprep.py\n",
    "train, validate, test = dataprep.prepare_zillow(dataprep.get_zillow_data())"
   ]
  },
  {
   "cell_type": "code",
   "execution_count": 9,
   "id": "c8a72854",
   "metadata": {},
   "outputs": [
    {
     "name": "stdout",
     "output_type": "stream",
     "text": [
      "(25550, 10)\n",
      "(10950, 10)\n",
      "(9126, 10)\n"
     ]
    }
   ],
   "source": [
    "print(train.shape)\n",
    "print(validate.shape)\n",
    "print(test.shape)\n",
    "#print out the shape of the train, validate and test to double check. "
   ]
  },
  {
   "cell_type": "code",
   "execution_count": 10,
   "id": "bb36e5cb",
   "metadata": {},
   "outputs": [
    {
     "data": {
      "text/html": [
       "<div>\n",
       "<style scoped>\n",
       "    .dataframe tbody tr th:only-of-type {\n",
       "        vertical-align: middle;\n",
       "    }\n",
       "\n",
       "    .dataframe tbody tr th {\n",
       "        vertical-align: top;\n",
       "    }\n",
       "\n",
       "    .dataframe thead th {\n",
       "        text-align: right;\n",
       "    }\n",
       "</style>\n",
       "<table border=\"1\" class=\"dataframe\">\n",
       "  <thead>\n",
       "    <tr style=\"text-align: right;\">\n",
       "      <th></th>\n",
       "      <th>bedrooms</th>\n",
       "      <th>bathrooms</th>\n",
       "      <th>area</th>\n",
       "      <th>tax_value</th>\n",
       "      <th>year_built</th>\n",
       "      <th>home_age</th>\n",
       "      <th>county</th>\n",
       "      <th>county_LA_county</th>\n",
       "      <th>county_orange_county</th>\n",
       "      <th>county_ventura_county</th>\n",
       "    </tr>\n",
       "  </thead>\n",
       "  <tbody>\n",
       "    <tr>\n",
       "      <th>17227</th>\n",
       "      <td>2.0</td>\n",
       "      <td>1.0</td>\n",
       "      <td>877.0</td>\n",
       "      <td>148732.0</td>\n",
       "      <td>1949.0</td>\n",
       "      <td>68.0</td>\n",
       "      <td>LA_county</td>\n",
       "      <td>1</td>\n",
       "      <td>0</td>\n",
       "      <td>0</td>\n",
       "    </tr>\n",
       "    <tr>\n",
       "      <th>36170</th>\n",
       "      <td>3.0</td>\n",
       "      <td>2.0</td>\n",
       "      <td>1386.0</td>\n",
       "      <td>319465.0</td>\n",
       "      <td>1966.0</td>\n",
       "      <td>51.0</td>\n",
       "      <td>orange_county</td>\n",
       "      <td>0</td>\n",
       "      <td>1</td>\n",
       "      <td>0</td>\n",
       "    </tr>\n",
       "  </tbody>\n",
       "</table>\n",
       "</div>"
      ],
      "text/plain": [
       "       bedrooms  bathrooms    area  tax_value year_built  home_age  \\\n",
       "17227       2.0        1.0   877.0   148732.0     1949.0      68.0   \n",
       "36170       3.0        2.0  1386.0   319465.0     1966.0      51.0   \n",
       "\n",
       "              county  county_LA_county  county_orange_county  \\\n",
       "17227      LA_county                 1                     0   \n",
       "36170  orange_county                 0                     1   \n",
       "\n",
       "       county_ventura_county  \n",
       "17227                      0  \n",
       "36170                      0  "
      ]
     },
     "execution_count": 10,
     "metadata": {},
     "output_type": "execute_result"
    }
   ],
   "source": [
    "train.head(2)"
   ]
  },
  {
   "cell_type": "code",
   "execution_count": 11,
   "id": "0daae30c",
   "metadata": {},
   "outputs": [
    {
     "name": "stdout",
     "output_type": "stream",
     "text": [
      "<class 'pandas.core.frame.DataFrame'>\n",
      "Int64Index: 25550 entries, 17227 to 9431\n",
      "Data columns (total 10 columns):\n",
      " #   Column                 Non-Null Count  Dtype  \n",
      "---  ------                 --------------  -----  \n",
      " 0   bedrooms               25550 non-null  float64\n",
      " 1   bathrooms              25550 non-null  float64\n",
      " 2   area                   25550 non-null  float64\n",
      " 3   tax_value              25550 non-null  float64\n",
      " 4   year_built             25550 non-null  object \n",
      " 5   home_age               25550 non-null  float64\n",
      " 6   county                 25550 non-null  object \n",
      " 7   county_LA_county       25550 non-null  uint8  \n",
      " 8   county_orange_county   25550 non-null  uint8  \n",
      " 9   county_ventura_county  25550 non-null  uint8  \n",
      "dtypes: float64(5), object(2), uint8(3)\n",
      "memory usage: 1.6+ MB\n"
     ]
    }
   ],
   "source": [
    "train.info()\n",
    "# Double check the datatype of each columns. "
   ]
  },
  {
   "cell_type": "code",
   "execution_count": 12,
   "id": "40e2f510",
   "metadata": {},
   "outputs": [
    {
     "data": {
      "text/html": [
       "<div>\n",
       "<style scoped>\n",
       "    .dataframe tbody tr th:only-of-type {\n",
       "        vertical-align: middle;\n",
       "    }\n",
       "\n",
       "    .dataframe tbody tr th {\n",
       "        vertical-align: top;\n",
       "    }\n",
       "\n",
       "    .dataframe thead th {\n",
       "        text-align: right;\n",
       "    }\n",
       "</style>\n",
       "<table border=\"1\" class=\"dataframe\">\n",
       "  <thead>\n",
       "    <tr style=\"text-align: right;\">\n",
       "      <th></th>\n",
       "      <th>bedrooms</th>\n",
       "      <th>bathrooms</th>\n",
       "      <th>area</th>\n",
       "      <th>tax_value</th>\n",
       "      <th>home_age</th>\n",
       "      <th>county_LA_county</th>\n",
       "      <th>county_orange_county</th>\n",
       "      <th>county_ventura_county</th>\n",
       "    </tr>\n",
       "  </thead>\n",
       "  <tbody>\n",
       "    <tr>\n",
       "      <th>count</th>\n",
       "      <td>25550.000000</td>\n",
       "      <td>25550.000000</td>\n",
       "      <td>25550.000000</td>\n",
       "      <td>2.555000e+04</td>\n",
       "      <td>25550.000000</td>\n",
       "      <td>25550.000000</td>\n",
       "      <td>25550.000000</td>\n",
       "      <td>25550.000000</td>\n",
       "    </tr>\n",
       "    <tr>\n",
       "      <th>mean</th>\n",
       "      <td>3.211977</td>\n",
       "      <td>2.101507</td>\n",
       "      <td>1703.976477</td>\n",
       "      <td>3.740012e+05</td>\n",
       "      <td>54.816673</td>\n",
       "      <td>0.651624</td>\n",
       "      <td>0.264618</td>\n",
       "      <td>0.083757</td>\n",
       "    </tr>\n",
       "    <tr>\n",
       "      <th>std</th>\n",
       "      <td>0.788582</td>\n",
       "      <td>0.725737</td>\n",
       "      <td>613.305649</td>\n",
       "      <td>2.449742e+05</td>\n",
       "      <td>21.900023</td>\n",
       "      <td>0.476465</td>\n",
       "      <td>0.441138</td>\n",
       "      <td>0.277029</td>\n",
       "    </tr>\n",
       "    <tr>\n",
       "      <th>min</th>\n",
       "      <td>2.000000</td>\n",
       "      <td>1.000000</td>\n",
       "      <td>152.000000</td>\n",
       "      <td>1.000000e+03</td>\n",
       "      <td>2.000000</td>\n",
       "      <td>0.000000</td>\n",
       "      <td>0.000000</td>\n",
       "      <td>0.000000</td>\n",
       "    </tr>\n",
       "    <tr>\n",
       "      <th>25%</th>\n",
       "      <td>3.000000</td>\n",
       "      <td>2.000000</td>\n",
       "      <td>1242.000000</td>\n",
       "      <td>1.750410e+05</td>\n",
       "      <td>40.000000</td>\n",
       "      <td>0.000000</td>\n",
       "      <td>0.000000</td>\n",
       "      <td>0.000000</td>\n",
       "    </tr>\n",
       "    <tr>\n",
       "      <th>50%</th>\n",
       "      <td>3.000000</td>\n",
       "      <td>2.000000</td>\n",
       "      <td>1570.000000</td>\n",
       "      <td>3.375615e+05</td>\n",
       "      <td>57.000000</td>\n",
       "      <td>1.000000</td>\n",
       "      <td>0.000000</td>\n",
       "      <td>0.000000</td>\n",
       "    </tr>\n",
       "    <tr>\n",
       "      <th>75%</th>\n",
       "      <td>4.000000</td>\n",
       "      <td>2.500000</td>\n",
       "      <td>2067.000000</td>\n",
       "      <td>5.232950e+05</td>\n",
       "      <td>67.000000</td>\n",
       "      <td>1.000000</td>\n",
       "      <td>1.000000</td>\n",
       "      <td>0.000000</td>\n",
       "    </tr>\n",
       "    <tr>\n",
       "      <th>max</th>\n",
       "      <td>5.000000</td>\n",
       "      <td>4.000000</td>\n",
       "      <td>3568.000000</td>\n",
       "      <td>1.123554e+06</td>\n",
       "      <td>132.000000</td>\n",
       "      <td>1.000000</td>\n",
       "      <td>1.000000</td>\n",
       "      <td>1.000000</td>\n",
       "    </tr>\n",
       "  </tbody>\n",
       "</table>\n",
       "</div>"
      ],
      "text/plain": [
       "           bedrooms     bathrooms          area     tax_value      home_age  \\\n",
       "count  25550.000000  25550.000000  25550.000000  2.555000e+04  25550.000000   \n",
       "mean       3.211977      2.101507   1703.976477  3.740012e+05     54.816673   \n",
       "std        0.788582      0.725737    613.305649  2.449742e+05     21.900023   \n",
       "min        2.000000      1.000000    152.000000  1.000000e+03      2.000000   \n",
       "25%        3.000000      2.000000   1242.000000  1.750410e+05     40.000000   \n",
       "50%        3.000000      2.000000   1570.000000  3.375615e+05     57.000000   \n",
       "75%        4.000000      2.500000   2067.000000  5.232950e+05     67.000000   \n",
       "max        5.000000      4.000000   3568.000000  1.123554e+06    132.000000   \n",
       "\n",
       "       county_LA_county  county_orange_county  county_ventura_county  \n",
       "count      25550.000000          25550.000000           25550.000000  \n",
       "mean           0.651624              0.264618               0.083757  \n",
       "std            0.476465              0.441138               0.277029  \n",
       "min            0.000000              0.000000               0.000000  \n",
       "25%            0.000000              0.000000               0.000000  \n",
       "50%            1.000000              0.000000               0.000000  \n",
       "75%            1.000000              1.000000               0.000000  \n",
       "max            1.000000              1.000000               1.000000  "
      ]
     },
     "execution_count": 12,
     "metadata": {},
     "output_type": "execute_result"
    }
   ],
   "source": [
    "train.describe()"
   ]
  },
  {
   "cell_type": "markdown",
   "id": "267bc736",
   "metadata": {},
   "source": [
    "# Explore the Train dataset"
   ]
  },
  {
   "cell_type": "markdown",
   "id": "7edf0a7f",
   "metadata": {},
   "source": [
    "Initial Questions: \n",
    "    \n",
    "    * What's the distribution of the home values?\n",
    "    \n",
    "    * What's the distribution of the building years?\n",
    "    \n",
    "    * Are homes in certain areas worth more than one other?\n",
    "    \n",
    "    * Are homes with more bedrooms and bathrooms worth more?\n",
    "    \n",
    "    * What are two features have strongest relationship with tax_value?\n",
    "    \n",
    "    "
   ]
  },
  {
   "cell_type": "markdown",
   "id": "7c027062",
   "metadata": {},
   "source": [
    "## Dataset Overview Questions: "
   ]
  },
  {
   "cell_type": "markdown",
   "id": "3b6a32e8",
   "metadata": {},
   "source": [
    "###  What's the distribution of the home values? "
   ]
  },
  {
   "cell_type": "code",
   "execution_count": 14,
   "id": "0c8a0a02",
   "metadata": {},
   "outputs": [
    {
     "data": {
      "text/plain": [
       "count    2.555000e+04\n",
       "mean     3.740012e+05\n",
       "std      2.449742e+05\n",
       "min      1.000000e+03\n",
       "25%      1.750410e+05\n",
       "50%      3.375615e+05\n",
       "75%      5.232950e+05\n",
       "max      1.123554e+06\n",
       "Name: tax_value, dtype: float64"
      ]
     },
     "execution_count": 14,
     "metadata": {},
     "output_type": "execute_result"
    }
   ],
   "source": [
    "train.tax_value.describe()"
   ]
  },
  {
   "cell_type": "code",
   "execution_count": 13,
   "id": "64b73331",
   "metadata": {},
   "outputs": [
    {
     "data": {
      "text/plain": [
       "<AxesSubplot:xlabel='tax_value'>"
      ]
     },
     "execution_count": 13,
     "metadata": {},
     "output_type": "execute_result"
    },
    {
     "data": {
      "image/png": "[encoded data removed]",
      "text/plain": [
       "<Figure size 432x288 with 1 Axes>"
      ]
     },
     "metadata": {},
     "output_type": "display_data"
    }
   ],
   "source": [
    "sns.set_theme(style=\"whitegrid\")\n",
    "sns.boxplot(data=train, x=\"tax_value\")"
   ]
  },
  {
   "cell_type": "code",
   "execution_count": 15,
   "id": "e910f9d4",
   "metadata": {},
   "outputs": [
    {
     "name": "stdout",
     "output_type": "stream",
     "text": [
      "The mean of the home values are 374001.18\n",
      "The min of the home values are 1000.0\n",
      "The max of the home values are 1123554.0\n"
     ]
    }
   ],
   "source": [
    "print(\"The mean of the home values are\", round(train.tax_value.mean(),2))\n",
    "print(\"The min of the home values are\", train.tax_value.min())\n",
    "print(\"The max of the home values are\",  train.tax_value.max())\n",
    "# There are couple of lower bound outliers which are less than 175k.\n",
    "# There are a couple outliers which are greater than 900k."
   ]
  },
  {
   "cell_type": "markdown",
   "id": "aa15e507",
   "metadata": {},
   "source": [
    "### What's the distribution of the building years? "
   ]
  },
  {
   "cell_type": "code",
   "execution_count": 16,
   "id": "0de67588",
   "metadata": {},
   "outputs": [
    {
     "data": {
      "image/png": "[encoded data removed]",
      "text/plain": [
       "<Figure size 432x288 with 1 Axes>"
      ]
     },
     "metadata": {},
     "output_type": "display_data"
    }
   ],
   "source": [
    "plt.hist(train[['year_built']], bins=30)\n",
    "plt.show()"
   ]
  },
  {
   "cell_type": "markdown",
   "id": "d848e607",
   "metadata": {},
   "source": [
    "I created 30 bins to fit the distribution. The building years histgram shows a normal distribution. More than half of homes are built between 1940-1980."
   ]
  },
  {
   "cell_type": "markdown",
   "id": "02150130",
   "metadata": {},
   "source": [
    "### Are homes with more bedrooms and bathrooms worth more? How about area size? \n"
   ]
  },
  {
   "cell_type": "code",
   "execution_count": 15,
   "id": "d99e04dd",
   "metadata": {},
   "outputs": [
    {
     "data": {
      "text/plain": [
       "<seaborn.axisgrid.FacetGrid at 0x7fe14f50da30>"
      ]
     },
     "execution_count": 15,
     "metadata": {},
     "output_type": "execute_result"
    },
    {
     "data": {
      "image/png": "[encoded data removed]",
      "text/plain": [
       "<Figure size 422.05x360 with 1 Axes>"
      ]
     },
     "metadata": {},
     "output_type": "display_data"
    }
   ],
   "source": [
    "sns.relplot(\n",
    "    data=train, x=\"bathrooms\", y=\"tax_value\",\n",
    "    hue=\"bedrooms\", kind=\"line\",\n",
    ")"
   ]
  },
  {
   "cell_type": "markdown",
   "id": "be122434",
   "metadata": {},
   "source": [
    "Yes, homes with more bedrooms and bathrooms worth more. More often than not, adding a bedroom / bathrooms increases the value of a home. "
   ]
  },
  {
   "cell_type": "code",
   "execution_count": 19,
   "id": "e1a1f537",
   "metadata": {},
   "outputs": [],
   "source": [
    "subset = train\n",
    "\n",
    "#I would like to compare how area corelate with tax_value. I created three subsets\n",
    "subset['home_size'] = \"\"\n",
    "subset.loc[subset.area <= 1600, 'home_size'] = \"small\"\n",
    "#If homes are less than 1600, I labeled as small homes. \n",
    "subset.loc[(subset.area >1600) &(subset.area <= 2300), 'home_size'] = \"medium\"\n",
    "#If homes are greater than 1600 but less than 2300, I labeled as medium homes. \n",
    "subset.loc[(subset.area >2300) &(subset.area <= 5500), 'home_size'] = \"large\"\n",
    "# If homes are greater than 2300, they are large homes. "
   ]
  },
  {
   "cell_type": "code",
   "execution_count": 20,
   "id": "33f33b95",
   "metadata": {},
   "outputs": [
    {
     "data": {
      "text/plain": [
       "<seaborn.axisgrid.FacetGrid at 0x7f880d790700>"
      ]
     },
     "execution_count": 20,
     "metadata": {},
     "output_type": "execute_result"
    },
    {
     "data": {
      "image/png": "[encoded data removed]",
      "text/plain": [
       "<Figure size 1142.05x360 with 3 Axes>"
      ]
     },
     "metadata": {},
     "output_type": "display_data"
    }
   ],
   "source": [
    "sns.relplot(\n",
    "    data=subset, x=\"bathrooms\", y=\"tax_value\",col = \"home_size\", style = 'bedrooms',\n",
    "    kind=\"line\")"
   ]
  },
  {
   "cell_type": "code",
   "execution_count": 33,
   "id": "817c392f",
   "metadata": {},
   "outputs": [],
   "source": [
    "train = train.drop(columns='home_size')"
   ]
  },
  {
   "cell_type": "markdown",
   "id": "f6535018",
   "metadata": {},
   "source": [
    "With the same count of bathrooms and bedrooms, homes with bigger size values more. More land and a bigger house will usually equate to more taxes that you will be paying."
   ]
  },
  {
   "cell_type": "markdown",
   "id": "d804ac9f",
   "metadata": {},
   "source": [
    "### Are homes in certain areas worth more than in any other? "
   ]
  },
  {
   "cell_type": "code",
   "execution_count": 21,
   "id": "fa26d91a",
   "metadata": {},
   "outputs": [
    {
     "data": {
      "text/plain": [
       "<seaborn.axisgrid.FacetGrid at 0x7f880ec86310>"
      ]
     },
     "execution_count": 21,
     "metadata": {},
     "output_type": "execute_result"
    },
    {
     "data": {
      "image/png": "[encoded data removed]",
      "text/plain": [
       "<Figure size 360x360 with 1 Axes>"
      ]
     },
     "metadata": {},
     "output_type": "display_data"
    }
   ],
   "source": [
    "sns.catplot(x=\"county\", y=\"tax_value\",kind=\"box\", data=train.sample(2000))"
   ]
  },
  {
   "cell_type": "markdown",
   "id": "9efb6e20",
   "metadata": {},
   "source": [
    "Not ready. LA_county's homes overall have a lower average home values. The avg home value between organge county and ventura country are about the same. However, LA_county also have some very high price homes. "
   ]
  },
  {
   "cell_type": "markdown",
   "id": "18a884d9",
   "metadata": {},
   "source": [
    "### Which three features have the strongest relationship with tax_value? "
   ]
  },
  {
   "cell_type": "code",
   "execution_count": 34,
   "id": "a3fcd09e",
   "metadata": {},
   "outputs": [],
   "source": [
    "## Scale our data. Columns that are suitble for scalling are, bedrooms, bathrooms, area, and home_age. \n",
    "def scale_data(train, validate, test, return_scaler=False):\n",
    "    '''\n",
    "    Scales the 3 data splits.\n",
    "    \n",
    "    takes in the train, validate, and test data splits and returns their scaled counterparts.\n",
    "    \n",
    "    If return_scaler is true, the scaler object will be returned as well.\n",
    "    '''\n",
    "    columns_to_scale = ['bedrooms', 'bathrooms', 'area','home_age']\n",
    "    \n",
    "    train_scaled = train.copy()\n",
    "    validate_scaled = validate.copy()\n",
    "    test_scaled = test.copy()# create copy to avoid overwrite. \n",
    "    \n",
    "    scaler = sklearn.preprocessing.MinMaxScaler() # import the min max scaler method. \n",
    "    scaler.fit(train[columns_to_scale])\n",
    "    \n",
    "    train_scaled[columns_to_scale] = scaler.transform(train[columns_to_scale]) #transform our data\n",
    "    validate_scaled[columns_to_scale] = scaler.transform(validate[columns_to_scale])\n",
    "    test_scaled[columns_to_scale] = scaler.transform(test[columns_to_scale])\n",
    "    \n",
    "    if return_scaler:\n",
    "        return scaler, train_scaled, validate_scaled, test_scaled\n",
    "    else:\n",
    "        return train_scaled, validate_scaled, test_scaled"
   ]
  },
  {
   "cell_type": "code",
   "execution_count": 35,
   "id": "6cd6336e",
   "metadata": {},
   "outputs": [],
   "source": [
    "train_scaled, validate_scaled, test_scaled = scale_data(train, validate, test)\n",
    "#let's input our train validate and test data, and transform them all to scaled data."
   ]
  },
  {
   "cell_type": "code",
   "execution_count": 36,
   "id": "5fe96e56",
   "metadata": {},
   "outputs": [],
   "source": [
    "#once we have scaled our data, then we will split out scaled data and ready for our model. \n",
    "X_train_scaled = train_scaled.drop(columns=['tax_value','county','county_LA_county','year_built'])\n",
    "#Drop the tax_value because tax_value is our target variable. \n",
    "#Drop the county because I already hot encoded them. \n",
    "#Drop county_LA_county because, I encoded all county, even drop one columns make no difference. \n",
    "#Drop year_built because I created home age, and I can scale the home easier. \n",
    "X_validate_scaled = validate_scaled.drop(columns=['tax_value','county','county_LA_county','year_built'])\n",
    "\n",
    "X_test_scaled = test_scaled.drop(columns=['tax_value','county','county_LA_county','year_built'])\n",
    "\n",
    "y_train = train[['tax_value']]\n",
    "\n",
    "y_validate = validate[['tax_value']]\n",
    "\n",
    "y_test = test[['tax_value']]"
   ]
  },
  {
   "cell_type": "markdown",
   "id": "a5687c3b",
   "metadata": {},
   "source": [
    "***Select K Best***\n",
    "\n",
    "\n",
    "Looks at each feature in isolation against the target based on correlation."
   ]
  },
  {
   "cell_type": "code",
   "execution_count": 37,
   "id": "f3ebdabf",
   "metadata": {},
   "outputs": [
    {
     "data": {
      "text/plain": [
       "SelectKBest(k=3, score_func=<function f_regression at 0x7f882f1ccf70>)"
      ]
     },
     "execution_count": 37,
     "metadata": {},
     "output_type": "execute_result"
    }
   ],
   "source": [
    "kbest = SelectKBest(f_regression, k=3)\n",
    "kbest.fit(X_train_scaled, y_train)"
   ]
  },
  {
   "cell_type": "code",
   "execution_count": 38,
   "id": "2a962a2b",
   "metadata": {},
   "outputs": [
    {
     "data": {
      "text/plain": [
       "Index(['bathrooms', 'area', 'home_age'], dtype='object')"
      ]
     },
     "execution_count": 38,
     "metadata": {},
     "output_type": "execute_result"
    }
   ],
   "source": [
    "X_train_scaled.columns[kbest.get_support()]"
   ]
  },
  {
   "cell_type": "markdown",
   "id": "40be0b9b",
   "metadata": {},
   "source": [
    "The select k best get us the best three features are bathrooms, area,and home age. "
   ]
  },
  {
   "cell_type": "markdown",
   "id": "d2c6ac06",
   "metadata": {},
   "source": [
    "***RFE Recursive Feature Elimination***\n",
    "\n",
    "Progressively eliminate features based on importance to the model, requires a model with either a .coef_ or .feature_importances_ property"
   ]
  },
  {
   "cell_type": "code",
   "execution_count": 39,
   "id": "95fd7958",
   "metadata": {},
   "outputs": [
    {
     "data": {
      "text/plain": [
       "RFE(estimator=LinearRegression(), n_features_to_select=3)"
      ]
     },
     "execution_count": 39,
     "metadata": {},
     "output_type": "execute_result"
    }
   ],
   "source": [
    "model = LinearRegression() #first, we will create the model. \n",
    "rfe = RFE(model, n_features_to_select=3)\n",
    "rfe.fit(X_train_scaled, y_train)"
   ]
  },
  {
   "cell_type": "code",
   "execution_count": 40,
   "id": "24add1fe",
   "metadata": {},
   "outputs": [
    {
     "data": {
      "text/plain": [
       "Index(['bedrooms', 'bathrooms', 'area'], dtype='object')"
      ]
     },
     "execution_count": 40,
     "metadata": {},
     "output_type": "execute_result"
    }
   ],
   "source": [
    "X_train_scaled.columns[rfe.get_support()]# Get list of top K features. "
   ]
  },
  {
   "cell_type": "markdown",
   "id": "da0670e6",
   "metadata": {},
   "source": [
    "Recursive Feature Elimination Top Three Features are bedrooms, bathrooms and area. "
   ]
  },
  {
   "cell_type": "markdown",
   "id": "31eee86c",
   "metadata": {},
   "source": [
    "\n",
    "# Statistical Test Questions: "
   ]
  },
  {
   "cell_type": "markdown",
   "id": "1f805c2a",
   "metadata": {},
   "source": [
    "### 1. Are homes with more bedrooms worth more?\n",
    "\n",
    "### 2. Are younger homes worth more? "
   ]
  },
  {
   "cell_type": "code",
   "execution_count": 28,
   "id": "390bb2cb",
   "metadata": {},
   "outputs": [],
   "source": [
    "alpha = 0.05 #let's assume alpha is 0.05"
   ]
  },
  {
   "cell_type": "markdown",
   "id": "d82031c3",
   "metadata": {},
   "source": [
    "### 1. Are homes with more bedrooms worth more?\n",
    "H0: There is no difference in tax_value between homes with 2 or 3 bedrooms vs homes with 4 or 5 bedrooms.\n",
    "\n",
    "Ha: There is a difference in tax_value between homes with 2 or 3 bedrooms vs homes with 4 or 5 bedrooms.\n"
   ]
  },
  {
   "cell_type": "code",
   "execution_count": 24,
   "id": "d28a4814",
   "metadata": {},
   "outputs": [
    {
     "data": {
      "text/plain": [
       "<AxesSubplot:xlabel='bedrooms', ylabel='tax_value'>"
      ]
     },
     "execution_count": 24,
     "metadata": {},
     "output_type": "execute_result"
    },
    {
     "data": {
      "image/png": "[encoded data removed]",
      "text/plain": [
       "<Figure size 432x288 with 1 Axes>"
      ]
     },
     "metadata": {},
     "output_type": "display_data"
    }
   ],
   "source": [
    "sns.boxplot(x=\"bedrooms\", y=\"tax_value\", data=train)"
   ]
  },
  {
   "cell_type": "code",
   "execution_count": 26,
   "id": "1c6dbc1a",
   "metadata": {},
   "outputs": [],
   "source": [
    "# I'm going to create some array's for this question\n",
    "tax_value_2_3Bd = train[(train.bedrooms == 2) | (train.bedrooms == 3)].tax_value\n",
    "tax_value_4_5Bd = train[(train.bedrooms == 4) | (train.bedrooms == 5)].tax_value"
   ]
  },
  {
   "cell_type": "code",
   "execution_count": 29,
   "id": "9b55be05",
   "metadata": {},
   "outputs": [
    {
     "name": "stdout",
     "output_type": "stream",
     "text": [
      "We reject the null hypothesis\n"
     ]
    }
   ],
   "source": [
    "# Perform a t test becuase we are comparsing two means,\n",
    "# This is a two-sampled, two-tailed test. \n",
    "t, p = stats.ttest_ind(tax_value_1_2Bd,tax_value_4_5Bd, equal_var=False )\n",
    "t, p\n",
    "\n",
    "if p < alpha:\n",
    "    print(\"We reject the null hypothesis\")\n",
    "\n",
    "else:\n",
    "    print(\"We fail to reject the null hypothesis\")"
   ]
  },
  {
   "cell_type": "markdown",
   "id": "f5585bda",
   "metadata": {},
   "source": [
    "Conclusion: There is a difference in tax_value between homes with 2 or 3 bedrooms vs homes with 4 or 5 bedrooms.\n",
    "\n",
    "Takeaway: The data shows that increased bedroom count correlates with increased tax_value."
   ]
  },
  {
   "cell_type": "markdown",
   "id": "0c355032",
   "metadata": {},
   "source": [
    "### 2. Are younger homes higher in tax_value than old homes?\n",
    "H0: Home ages have no relationship with tax values \n",
    "\n",
    "Ha: Home ages have relationship with tax values "
   ]
  },
  {
   "cell_type": "code",
   "execution_count": 76,
   "id": "d0ce3f3b",
   "metadata": {},
   "outputs": [
    {
     "data": {
      "text/plain": [
       "(0.0, 2000000.0)"
      ]
     },
     "execution_count": 76,
     "metadata": {},
     "output_type": "execute_result"
    },
    {
     "data": {
      "image/png": "[encoded data removed]",
      "text/plain": [
       "<Figure size 360x360 with 1 Axes>"
      ]
     },
     "metadata": {
      "needs_background": "light"
     },
     "output_type": "display_data"
    }
   ],
   "source": [
    "sns.lmplot(data = train.sample(2000), x = 'home_age', y = 'tax_value',line_kws={'color': 'purple'})\n",
    "plt.ylim(0,2000000)"
   ]
  },
  {
   "cell_type": "code",
   "execution_count": 30,
   "id": "8010cfff",
   "metadata": {},
   "outputs": [
    {
     "name": "stdout",
     "output_type": "stream",
     "text": [
      "We reject the null hypothesis\n"
     ]
    }
   ],
   "source": [
    "corr, p = stats.pearsonr(train.home_age, train.tax_value)\n",
    "\n",
    "\n",
    "corr, p\n",
    "\n",
    "\n",
    "if p < alpha:\n",
    "    print(\"We reject the null hypothesis\")\n",
    "\n",
    "else:\n",
    "    print(\"We fail to reject the null hypothesis\")"
   ]
  },
  {
   "cell_type": "markdown",
   "id": "a758d6df",
   "metadata": {},
   "source": [
    "Conclusion: Home ages have relationship with tax values\n",
    "\n",
    "Takeaway: home_age was number 3 in most valued features, so this makes sense. Younger homes have higher tax value than older homes."
   ]
  },
  {
   "cell_type": "markdown",
   "id": "2750dc35",
   "metadata": {},
   "source": [
    "## Key Takeaways From Exploration "
   ]
  },
  {
   "cell_type": "markdown",
   "id": "09e4cc64",
   "metadata": {},
   "source": [
    "* These single families were built in between 1900-2016.\n",
    "\n",
    "* The more rooms, the higher the value of the home.\n",
    "\n",
    "* More land and a bigger house will usually equate to more taxes that you will be paying.\n",
    "\n",
    "* The data shows that increased bedroom count correlates with increased tax_value.\n",
    "\n",
    "* Younger homes have higher tax value.\n",
    "\n",
    "* RFE top three features are bedrooms, area and home_age. \n",
    "\n",
    "* K Best top three features are bathrooms, area and home ago."
   ]
  },
  {
   "cell_type": "markdown",
   "id": "be9d5db0",
   "metadata": {},
   "source": [
    "# Modeling "
   ]
  },
  {
   "cell_type": "markdown",
   "id": "1a9bfe7a",
   "metadata": {},
   "source": [
    "## Baseline Model"
   ]
  },
  {
   "cell_type": "code",
   "execution_count": 41,
   "id": "2784e4bf",
   "metadata": {},
   "outputs": [],
   "source": [
    "# Need to create y_train, y_validate, y_test to evaluate the baseline model. \n",
    "y_train = train[['tax_value']]\n",
    "\n",
    "y_validate = validate[['tax_value']]\n",
    "\n",
    "y_test = test[['tax_value']]"
   ]
  },
  {
   "cell_type": "code",
   "execution_count": 43,
   "id": "50e5565e",
   "metadata": {},
   "outputs": [
    {
     "data": {
      "text/html": [
       "<div>\n",
       "<style scoped>\n",
       "    .dataframe tbody tr th:only-of-type {\n",
       "        vertical-align: middle;\n",
       "    }\n",
       "\n",
       "    .dataframe tbody tr th {\n",
       "        vertical-align: top;\n",
       "    }\n",
       "\n",
       "    .dataframe thead th {\n",
       "        text-align: right;\n",
       "    }\n",
       "</style>\n",
       "<table border=\"1\" class=\"dataframe\">\n",
       "  <thead>\n",
       "    <tr style=\"text-align: right;\">\n",
       "      <th></th>\n",
       "      <th>model</th>\n",
       "      <th>RMSE_train</th>\n",
       "      <th>RMSE_validate</th>\n",
       "    </tr>\n",
       "  </thead>\n",
       "  <tbody>\n",
       "    <tr>\n",
       "      <th>0</th>\n",
       "      <td>Baseline</td>\n",
       "      <td>244969.441009</td>\n",
       "      <td>244786.950649</td>\n",
       "    </tr>\n",
       "  </tbody>\n",
       "</table>\n",
       "</div>"
      ],
      "text/plain": [
       "      model     RMSE_train  RMSE_validate\n",
       "0  Baseline  244969.441009  244786.950649"
      ]
     },
     "execution_count": 43,
     "metadata": {},
     "output_type": "execute_result"
    }
   ],
   "source": [
    "# We need y_train and y_validate to be dataframes to append the new columns with predicted values. \n",
    "y_train = pd.DataFrame(y_train)\n",
    "y_validate = pd.DataFrame(y_validate)\n",
    "\n",
    "# The Project specs told us to use mean for our baseline\n",
    "# 1. Predict tax_value_pred_mean\n",
    "tax_value_pred_mean = y_train.tax_value.mean()\n",
    "y_train['tax_value_pred_mean'] = tax_value_pred_mean\n",
    "y_validate['tax_value_pred_mean'] = tax_value_pred_mean\n",
    "\n",
    "# 2. RMSE of tax_value_pred_mean\n",
    "rmse_train = mean_squared_error(y_train.tax_value, y_train.tax_value_pred_mean) ** (0.5)\n",
    "rmse_validate = mean_squared_error(y_validate.tax_value, y_validate.tax_value_pred_mean) ** (0.5)\n",
    "\n",
    "metric_df = pd.DataFrame(data=[\n",
    "            {\n",
    "                'model': 'Baseline', \n",
    "                'RMSE_train': rmse_train,\n",
    "                'RMSE_validate': rmse_validate\n",
    "                }\n",
    "            ])\n",
    "metric_df"
   ]
  },
  {
   "cell_type": "markdown",
   "id": "1ad3ce62",
   "metadata": {},
   "source": [
    "## Three Models"
   ]
  },
  {
   "cell_type": "markdown",
   "id": "a62ab7ca",
   "metadata": {},
   "source": [
    "### Multiple Regression + RFE"
   ]
  },
  {
   "cell_type": "code",
   "execution_count": 44,
   "id": "191d2834",
   "metadata": {},
   "outputs": [
    {
     "name": "stdout",
     "output_type": "stream",
     "text": [
      "RMSE for Multiple Regression + RFE using LinearRegression\n",
      "Training/In-Sample:  217613.08303855872 \n",
      "Validation/Out-of-Sample:  214966.0975657799\n"
     ]
    }
   ],
   "source": [
    "#I decided to use REF top features to run model 1. \n",
    "lm0 = sklearn.linear_model.LinearRegression()\n",
    "lm0.fit(X_train_scaled, y_train.tax_value)\n",
    "rfe = sklearn.feature_selection.RFE(lm0, n_features_to_select=3)\n",
    "\n",
    "    # Fit the thing\n",
    "rfe.fit(X_train_scaled, y_train.tax_value)\n",
    "\n",
    "# use the thing!\n",
    "y_train['RFE'] = rfe.predict(X_train_scaled)\n",
    "# evaluate: rmse\n",
    "rmse_train = mean_squared_error(y_train.tax_value, y_train.RFE) ** (1/2)\n",
    "\n",
    "# predict validate\n",
    "y_validate['RFE'] = lm0.predict(X_validate_scaled)\n",
    "\n",
    "# evaluate: rmse\n",
    "rmse_validate = mean_squared_error(y_validate.tax_value, y_validate.RFE) ** (1/2)\n",
    "\n",
    "print(\"RMSE for Multiple Regression + RFE using LinearRegression\\nTraining/In-Sample: \", rmse_train, \n",
    "      \"\\nValidation/Out-of-Sample: \", rmse_validate)"
   ]
  },
  {
   "cell_type": "code",
   "execution_count": 45,
   "id": "d41c9db3",
   "metadata": {},
   "outputs": [
    {
     "data": {
      "text/html": [
       "<div>\n",
       "<style scoped>\n",
       "    .dataframe tbody tr th:only-of-type {\n",
       "        vertical-align: middle;\n",
       "    }\n",
       "\n",
       "    .dataframe tbody tr th {\n",
       "        vertical-align: top;\n",
       "    }\n",
       "\n",
       "    .dataframe thead th {\n",
       "        text-align: right;\n",
       "    }\n",
       "</style>\n",
       "<table border=\"1\" class=\"dataframe\">\n",
       "  <thead>\n",
       "    <tr style=\"text-align: right;\">\n",
       "      <th></th>\n",
       "      <th>model</th>\n",
       "      <th>RMSE_train</th>\n",
       "      <th>RMSE_validate</th>\n",
       "    </tr>\n",
       "  </thead>\n",
       "  <tbody>\n",
       "    <tr>\n",
       "      <th>0</th>\n",
       "      <td>Baseline</td>\n",
       "      <td>244969.441009</td>\n",
       "      <td>244786.950649</td>\n",
       "    </tr>\n",
       "    <tr>\n",
       "      <th>1</th>\n",
       "      <td>Multiple Regression + RFE</td>\n",
       "      <td>217613.083039</td>\n",
       "      <td>214966.097566</td>\n",
       "    </tr>\n",
       "  </tbody>\n",
       "</table>\n",
       "</div>"
      ],
      "text/plain": [
       "                       model     RMSE_train  RMSE_validate\n",
       "0                   Baseline  244969.441009  244786.950649\n",
       "1  Multiple Regression + RFE  217613.083039  214966.097566"
      ]
     },
     "execution_count": 45,
     "metadata": {},
     "output_type": "execute_result"
    }
   ],
   "source": [
    "metric_df = metric_df.append({\n",
    "    'model': 'Multiple Regression + RFE', \n",
    "    'RMSE_train': rmse_train,\n",
    "    'RMSE_validate': rmse_validate,\n",
    "    }, ignore_index=True)\n",
    "metric_df"
   ]
  },
  {
   "cell_type": "markdown",
   "id": "46971d66",
   "metadata": {},
   "source": [
    "### LinearRegression (OLS)"
   ]
  },
  {
   "cell_type": "code",
   "execution_count": 46,
   "id": "a8acd1af",
   "metadata": {},
   "outputs": [
    {
     "name": "stdout",
     "output_type": "stream",
     "text": [
      "RMSE for OLS using LinearRegression\n",
      "Training/In-Sample:  215689.82692389964 \n",
      "Validation/Out-of-Sample:  214966.0975657799\n"
     ]
    }
   ],
   "source": [
    "# I decided to use all features in x_ train scaled to run model 2, \n",
    "# because all features are very important, and I want to see if this\n",
    "# model can perfom better than RFE since there are more features. \n",
    "lm2 = LinearRegression()\n",
    "lm2.fit(X_train_scaled, y_train.tax_value)\n",
    "# predict train\n",
    "# \n",
    "# use the thing!\n",
    "# \n",
    "y_train['OLS'] = lm2.predict(X_train_scaled)\n",
    "# evaluate: rmse\n",
    "rmse_train = mean_squared_error(y_train.tax_value, y_train.OLS) ** (1/2)\n",
    "\n",
    "# predict validate\n",
    "y_validate['OLS'] = lm2.predict(X_validate_scaled)\n",
    "\n",
    "# evaluate: rmse\n",
    "rmse_validate = mean_squared_error(y_validate.tax_value, y_validate.OLS) ** (1/2)\n",
    "\n",
    "print(\"RMSE for OLS using LinearRegression\\nTraining/In-Sample: \", rmse_train, \n",
    "      \"\\nValidation/Out-of-Sample: \", rmse_validate)"
   ]
  },
  {
   "cell_type": "code",
   "execution_count": 47,
   "id": "c5505989",
   "metadata": {},
   "outputs": [
    {
     "data": {
      "text/html": [
       "<div>\n",
       "<style scoped>\n",
       "    .dataframe tbody tr th:only-of-type {\n",
       "        vertical-align: middle;\n",
       "    }\n",
       "\n",
       "    .dataframe tbody tr th {\n",
       "        vertical-align: top;\n",
       "    }\n",
       "\n",
       "    .dataframe thead th {\n",
       "        text-align: right;\n",
       "    }\n",
       "</style>\n",
       "<table border=\"1\" class=\"dataframe\">\n",
       "  <thead>\n",
       "    <tr style=\"text-align: right;\">\n",
       "      <th></th>\n",
       "      <th>model</th>\n",
       "      <th>RMSE_train</th>\n",
       "      <th>RMSE_validate</th>\n",
       "    </tr>\n",
       "  </thead>\n",
       "  <tbody>\n",
       "    <tr>\n",
       "      <th>0</th>\n",
       "      <td>Baseline</td>\n",
       "      <td>244969.441009</td>\n",
       "      <td>244786.950649</td>\n",
       "    </tr>\n",
       "    <tr>\n",
       "      <th>1</th>\n",
       "      <td>Multiple Regression + RFE</td>\n",
       "      <td>217613.083039</td>\n",
       "      <td>214966.097566</td>\n",
       "    </tr>\n",
       "    <tr>\n",
       "      <th>2</th>\n",
       "      <td>OLS Regressor</td>\n",
       "      <td>215689.826924</td>\n",
       "      <td>214966.097566</td>\n",
       "    </tr>\n",
       "  </tbody>\n",
       "</table>\n",
       "</div>"
      ],
      "text/plain": [
       "                       model     RMSE_train  RMSE_validate\n",
       "0                   Baseline  244969.441009  244786.950649\n",
       "1  Multiple Regression + RFE  217613.083039  214966.097566\n",
       "2              OLS Regressor  215689.826924  214966.097566"
      ]
     },
     "execution_count": 47,
     "metadata": {},
     "output_type": "execute_result"
    }
   ],
   "source": [
    "metric_df = metric_df.append({\n",
    "    'model': 'OLS Regressor', \n",
    "    'RMSE_train': rmse_train,\n",
    "    'RMSE_validate': rmse_validate,\n",
    "    }, ignore_index=True)\n",
    "metric_df"
   ]
  },
  {
   "cell_type": "markdown",
   "id": "9ee48e22",
   "metadata": {},
   "source": [
    "## Polynomial"
   ]
  },
  {
   "cell_type": "code",
   "execution_count": 48,
   "id": "6a0b9160",
   "metadata": {},
   "outputs": [],
   "source": [
    "# I decided to use polynomial for model 3. \n",
    "#Generate a new feature matrix consisting of all polynomial combinations \n",
    "#of the features with degree less than or equal to the specified degree.\n",
    "# Polynomial provides the best approximation of the relationship between the dependent and independent variable. \n",
    "from sklearn.preprocessing import PolynomialFeatures"
   ]
  },
  {
   "cell_type": "code",
   "execution_count": 49,
   "id": "0a0deff5",
   "metadata": {},
   "outputs": [
    {
     "data": {
      "text/html": [
       "<div>\n",
       "<style scoped>\n",
       "    .dataframe tbody tr th:only-of-type {\n",
       "        vertical-align: middle;\n",
       "    }\n",
       "\n",
       "    .dataframe tbody tr th {\n",
       "        vertical-align: top;\n",
       "    }\n",
       "\n",
       "    .dataframe thead th {\n",
       "        text-align: right;\n",
       "    }\n",
       "</style>\n",
       "<table border=\"1\" class=\"dataframe\">\n",
       "  <thead>\n",
       "    <tr style=\"text-align: right;\">\n",
       "      <th></th>\n",
       "      <th>bedrooms</th>\n",
       "      <th>bathrooms</th>\n",
       "      <th>area</th>\n",
       "      <th>home_age</th>\n",
       "      <th>county_orange_county</th>\n",
       "      <th>county_ventura_county</th>\n",
       "    </tr>\n",
       "  </thead>\n",
       "  <tbody>\n",
       "    <tr>\n",
       "      <th>17227</th>\n",
       "      <td>0.000000</td>\n",
       "      <td>0.000000</td>\n",
       "      <td>0.212237</td>\n",
       "      <td>0.507692</td>\n",
       "      <td>0</td>\n",
       "      <td>0</td>\n",
       "    </tr>\n",
       "    <tr>\n",
       "      <th>36170</th>\n",
       "      <td>0.333333</td>\n",
       "      <td>0.333333</td>\n",
       "      <td>0.361241</td>\n",
       "      <td>0.376923</td>\n",
       "      <td>1</td>\n",
       "      <td>0</td>\n",
       "    </tr>\n",
       "    <tr>\n",
       "      <th>16538</th>\n",
       "      <td>0.666667</td>\n",
       "      <td>0.500000</td>\n",
       "      <td>0.559719</td>\n",
       "      <td>0.161538</td>\n",
       "      <td>1</td>\n",
       "      <td>0</td>\n",
       "    </tr>\n",
       "    <tr>\n",
       "      <th>29765</th>\n",
       "      <td>0.333333</td>\n",
       "      <td>0.333333</td>\n",
       "      <td>0.342799</td>\n",
       "      <td>0.453846</td>\n",
       "      <td>0</td>\n",
       "      <td>0</td>\n",
       "    </tr>\n",
       "    <tr>\n",
       "      <th>22836</th>\n",
       "      <td>0.666667</td>\n",
       "      <td>0.666667</td>\n",
       "      <td>0.718091</td>\n",
       "      <td>0.076923</td>\n",
       "      <td>0</td>\n",
       "      <td>0</td>\n",
       "    </tr>\n",
       "  </tbody>\n",
       "</table>\n",
       "</div>"
      ],
      "text/plain": [
       "       bedrooms  bathrooms      area  home_age  county_orange_county  \\\n",
       "17227  0.000000   0.000000  0.212237  0.507692                     0   \n",
       "36170  0.333333   0.333333  0.361241  0.376923                     1   \n",
       "16538  0.666667   0.500000  0.559719  0.161538                     1   \n",
       "29765  0.333333   0.333333  0.342799  0.453846                     0   \n",
       "22836  0.666667   0.666667  0.718091  0.076923                     0   \n",
       "\n",
       "       county_ventura_county  \n",
       "17227                      0  \n",
       "36170                      0  \n",
       "16538                      0  \n",
       "29765                      0  \n",
       "22836                      0  "
      ]
     },
     "execution_count": 49,
     "metadata": {},
     "output_type": "execute_result"
    }
   ],
   "source": [
    "X_train_scaled.head()"
   ]
  },
  {
   "cell_type": "code",
   "execution_count": 50,
   "id": "0f249bdc",
   "metadata": {},
   "outputs": [
    {
     "name": "stdout",
     "output_type": "stream",
     "text": [
      "RMSE for Polynomial Model, degrees=2\n",
      "Training/In-Sample:  211332.19401820886 \n",
      "Validation/Out-of-Sample:  210698.16510257247\n"
     ]
    }
   ],
   "source": [
    "# make the polynomial features to get a new set of features\n",
    "pf = PolynomialFeatures(degree =2)\n",
    "\n",
    "# fit and transform X_train_scaled\n",
    "X_train_degree2 = pf.fit_transform(X_train_scaled)\n",
    "\n",
    "# transform X_validate_scaled & X_test_scaled\n",
    "X_validate_degree2 = pf.transform(X_validate_scaled)\n",
    "X_test_degree2 = pf.transform(X_test_scaled)\n",
    "# create the model object\n",
    "lm2 = LinearRegression(normalize=True)\n",
    "\n",
    "# fit the model to our training data. We must specify the column in y_train, \n",
    "# since we have converted it to a dataframe from a series! \n",
    "lm2.fit(X_train_degree2, y_train.tax_value)\n",
    "\n",
    "# predict train\n",
    "y_train['polynomial'] = lm2.predict(X_train_degree2)\n",
    "\n",
    "# evaluate: rmse\n",
    "rmse_train = mean_squared_error(y_train.tax_value, y_train.polynomial)**(1/2)\n",
    "\n",
    "# predict validate\n",
    "y_validate['polynomial'] = lm2.predict(X_validate_degree2)\n",
    "\n",
    "# evaluate: rmse\n",
    "rmse_validate = mean_squared_error(y_validate.tax_value, y_validate.polynomial)**(1/2)\n",
    "\n",
    "print(\"RMSE for Polynomial Model, degrees=2\\nTraining/In-Sample: \", rmse_train, \n",
    "      \"\\nValidation/Out-of-Sample: \", rmse_validate)\n"
   ]
  },
  {
   "cell_type": "code",
   "execution_count": 51,
   "id": "9ec4ac55",
   "metadata": {},
   "outputs": [
    {
     "data": {
      "text/html": [
       "<div>\n",
       "<style scoped>\n",
       "    .dataframe tbody tr th:only-of-type {\n",
       "        vertical-align: middle;\n",
       "    }\n",
       "\n",
       "    .dataframe tbody tr th {\n",
       "        vertical-align: top;\n",
       "    }\n",
       "\n",
       "    .dataframe thead th {\n",
       "        text-align: right;\n",
       "    }\n",
       "</style>\n",
       "<table border=\"1\" class=\"dataframe\">\n",
       "  <thead>\n",
       "    <tr style=\"text-align: right;\">\n",
       "      <th></th>\n",
       "      <th>model</th>\n",
       "      <th>RMSE_train</th>\n",
       "      <th>RMSE_validate</th>\n",
       "    </tr>\n",
       "  </thead>\n",
       "  <tbody>\n",
       "    <tr>\n",
       "      <th>0</th>\n",
       "      <td>Baseline</td>\n",
       "      <td>244969.441009</td>\n",
       "      <td>244786.950649</td>\n",
       "    </tr>\n",
       "    <tr>\n",
       "      <th>1</th>\n",
       "      <td>Multiple Regression + RFE</td>\n",
       "      <td>217613.083039</td>\n",
       "      <td>214966.097566</td>\n",
       "    </tr>\n",
       "    <tr>\n",
       "      <th>2</th>\n",
       "      <td>OLS Regressor</td>\n",
       "      <td>215689.826924</td>\n",
       "      <td>214966.097566</td>\n",
       "    </tr>\n",
       "    <tr>\n",
       "      <th>3</th>\n",
       "      <td>polynomial</td>\n",
       "      <td>211332.194018</td>\n",
       "      <td>210698.165103</td>\n",
       "    </tr>\n",
       "  </tbody>\n",
       "</table>\n",
       "</div>"
      ],
      "text/plain": [
       "                       model     RMSE_train  RMSE_validate\n",
       "0                   Baseline  244969.441009  244786.950649\n",
       "1  Multiple Regression + RFE  217613.083039  214966.097566\n",
       "2              OLS Regressor  215689.826924  214966.097566\n",
       "3                 polynomial  211332.194018  210698.165103"
      ]
     },
     "execution_count": 51,
     "metadata": {},
     "output_type": "execute_result"
    }
   ],
   "source": [
    "metric_df = metric_df.append({\n",
    "    'model': 'polynomial', \n",
    "    'RMSE_train': rmse_train,\n",
    "    'RMSE_validate': rmse_validate,\n",
    "    }, ignore_index=True)\n",
    "metric_df"
   ]
  },
  {
   "cell_type": "markdown",
   "id": "26965137",
   "metadata": {},
   "source": [
    "### Evaluate on Test"
   ]
  },
  {
   "cell_type": "markdown",
   "id": "4c8b37bb",
   "metadata": {},
   "source": [
    "The Polynomial Model had the best Root Mean Squared Error.\n",
    "Validate Dataset had an RMSE of $210698.\n",
    "\n",
    "\n",
    "I will use polynomial model for my Test Dataset!"
   ]
  },
  {
   "cell_type": "code",
   "execution_count": 52,
   "id": "ef9f975f",
   "metadata": {},
   "outputs": [
    {
     "data": {
      "text/plain": [
       "210698.16510257247"
      ]
     },
     "execution_count": 52,
     "metadata": {},
     "output_type": "execute_result"
    }
   ],
   "source": [
    "# predict validate\n",
    "y_test['polynomial'] = lm2.predict(X_test_degree2)\n",
    "\n",
    "# evaluate: rmse\n",
    "rmse_test = mean_squared_error(y_validate.tax_value, y_validate.polynomial)**(1/2)\n",
    "\n",
    "rmse_test"
   ]
  },
  {
   "cell_type": "markdown",
   "id": "3ad17bee",
   "metadata": {},
   "source": [
    "## My polynomial Model had a Root Mean Squared Error (RMSE) of $210698. \n",
    "\n",
    "## Beating my Baseline RMSE of $34270"
   ]
  },
  {
   "cell_type": "code",
   "execution_count": 53,
   "id": "d6398e46",
   "metadata": {},
   "outputs": [
    {
     "data": {
      "image/png": "[encoded data removed]",
      "text/plain": [
       "<Figure size 1152x576 with 1 Axes>"
      ]
     },
     "metadata": {},
     "output_type": "display_data"
    }
   ],
   "source": [
    "# plot to visualize actual vs predicted. \n",
    "plt.figure(figsize=(16,8))\n",
    "plt.hist(y_train.tax_value, color='blue', alpha=.5, label=\"Actual Tax Value\")\n",
    "plt.hist(y_train.RFE, color='red', alpha=.5, label=\"Model: Multiple Regression + RFE\")\n",
    "plt.hist(y_train.OLS, color='yellow', alpha=.5, label=\"Model: OLS Regressor\")\n",
    "plt.hist(y_train.polynomial, color='green', alpha=.5, label=\"Model 2rd degree Polynomial\")\n",
    "plt.xlabel(\"Tax Value\")\n",
    "plt.ylabel(\"Tax Total\")\n",
    "plt.title(\"Comparing the Distribution of Actual Tax Value to Distributions of Predicted Tax Value for the Top Models\")\n",
    "plt.legend()\n",
    "plt.xlim(-10000,1000000)\n",
    "plt.show()"
   ]
  },
  {
   "cell_type": "markdown",
   "id": "21a9d110",
   "metadata": {},
   "source": [
    "By looking at the Distribution of Actual Tax Value to Distributions, we can tell the 2nd degree polynomial model(color in green) capture and cover the most of our actual data (color in blue). "
   ]
  },
  {
   "cell_type": "markdown",
   "id": "9586c0fb",
   "metadata": {},
   "source": [
    "# Conclusion "
   ]
  },
  {
   "cell_type": "markdown",
   "id": "03ec401b",
   "metadata": {},
   "source": [
    "## My polynomial Model had a Root Mean Squared Error (RMSE) of $210698. \n",
    "\n",
    "## Beating my Baseline RMSE of $34270"
   ]
  },
  {
   "cell_type": "markdown",
   "id": "7e829fbe",
   "metadata": {},
   "source": [
    "# Key Findings "
   ]
  },
  {
   "cell_type": "markdown",
   "id": "031dbf8a",
   "metadata": {},
   "source": [
    "\n",
    "There is a relationship between bathrooms, square feet, and bedroom count in predicting the tax value of single family units. Bathrooms and bedrooms count were shown as the biggest driver.\n",
    "\n",
    "Also, data shows homes that are newer appraise at a higher value. I think that critical parts of the house, like plumbing, electrical, the roof, and appliances are newer and therefore homes are worth more. "
   ]
  },
  {
   "cell_type": "markdown",
   "id": "c184edde",
   "metadata": {},
   "source": [
    "# Recomandations"
   ]
  },
  {
   "cell_type": "markdown",
   "id": "fe01db3a",
   "metadata": {},
   "source": [
    "The data suggest Bathrooms, Bedrooms, and Squarefeet and home ages to be the most valued features. I recommend removing outliers from these columns to improve future modeling."
   ]
  },
  {
   "cell_type": "markdown",
   "id": "166fde93",
   "metadata": {},
   "source": [
    "# Next Steps"
   ]
  },
  {
   "cell_type": "markdown",
   "id": "1e14d313",
   "metadata": {},
   "source": [
    "With more time I would work on improving the model by adding more parameters.\n"
   ]
  },
  {
   "cell_type": "markdown",
   "id": "fdb33bb8",
   "metadata": {},
   "source": [
    "I would like to dive deeper into the zillow database and implement feature engineering to discover the best combination of available features to predict home values."
   ]
  },
  {
   "cell_type": "code",
   "execution_count": null,
   "id": "6d8e6cad",
   "metadata": {},
   "outputs": [],
   "source": []
  }
 ],
 "metadata": {
  "kernelspec": {
   "display_name": "Python 3 (ipykernel)",
   "language": "python",
   "name": "python3"
  },
  "language_info": {
   "codemirror_mode": {
    "name": "ipython",
    "version": 3
   },
   "file_extension": ".py",
   "mimetype": "text/x-python",
   "name": "python",
   "nbconvert_exporter": "python",
   "pygments_lexer": "ipython3",
   "version": "3.9.7"
  }
 },
 "nbformat": 4,
 "nbformat_minor": 5
}
