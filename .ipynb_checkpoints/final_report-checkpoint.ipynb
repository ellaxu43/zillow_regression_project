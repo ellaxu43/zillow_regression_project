{
 "cells": [
  {
   "cell_type": "code",
   "execution_count": 1,
   "id": "11699950",
   "metadata": {},
   "outputs": [],
   "source": [
    "import pandas as pd\n",
    "import numpy as np\n",
    "import matplotlib.pyplot as plt\n",
    "from statsmodels.formula.api import ols\n",
    "import env\n",
    "import dataprep\n",
    "\n",
    "from scipy import stats\n",
    "from sklearn.metrics import mean_squared_error, r2_score, explained_variance_score\n",
    "\n",
    "from sklearn.linear_model import LinearRegression\n",
    "from sklearn.feature_selection import f_regression \n",
    "from math import sqrt\n",
    "import seaborn as sns\n",
    "import warnings\n",
    "warnings.filterwarnings('ignore')\n",
    "import math"
   ]
  },
  {
   "cell_type": "markdown",
   "id": "1d7a4f34",
   "metadata": {},
   "source": [
    "# Predicting Home Values\n",
    "Ella Xu\n",
    "Junior Data Scientist | Zillow Data Science Team"
   ]
  },
  {
   "cell_type": "markdown",
   "id": "500f32d3",
   "metadata": {},
   "source": [
    "# Goals\n",
    "Zillow has a model that is designed to predict the property tax assessed values ('taxvaluedollarcnt') of Single Family Properties that had a transaction during 2017. The goal of this project is to look for insights that can help possibly improve this model, and make recommendations on how to improve it.\n",
    "\n",
    "# Planning\n",
    "* Setup my repository environment (.gitignore, README.md)\n",
    "* Import and test my wrangle functions\n",
    "* Define an test at least two hypothesis’s\n",
    "* Train and Evalutate three different classification models.\n",
    "* Create a csv file with predictions, from the model that perfoms the best\n",
    "* Report my conclusions and next steps in a presentation.\n",
    "\n",
    "\n",
    "# Executive Summary\n",
    "* "
   ]
  },
  {
   "cell_type": "markdown",
   "id": "ad8d6528",
   "metadata": {},
   "source": [
    "# Acquiring the Data\n",
    "To acquire the Zillow data, I used the zillow database in the Codeup SQL server, and selected the requested columns. I then selected only Single Family Residential from the 2017 properties using propertylandusetypeid."
   ]
  },
  {
   "cell_type": "code",
   "execution_count": null,
   "id": "c125846f",
   "metadata": {},
   "outputs": [],
   "source": []
  },
  {
   "cell_type": "code",
   "execution_count": null,
   "id": "8920cc84",
   "metadata": {},
   "outputs": [],
   "source": []
  },
  {
   "cell_type": "code",
   "execution_count": 3,
   "id": "aa7f516c",
   "metadata": {},
   "outputs": [
    {
     "name": "stdout",
     "output_type": "stream",
     "text": [
      "Using cached csv\n"
     ]
    }
   ],
   "source": [
    "train, validate, test = dataprep.wrangle_zillow()"
   ]
  },
  {
   "cell_type": "code",
   "execution_count": 5,
   "id": "4afe04ac",
   "metadata": {},
   "outputs": [
    {
     "name": "stdout",
     "output_type": "stream",
     "text": [
      "(1038959, 7)\n",
      "(445269, 7)\n",
      "(371057, 7)\n"
     ]
    }
   ],
   "source": [
    "print(train.shape)\n",
    "print(validate.shape)\n",
    "print(test.shape)"
   ]
  },
  {
   "cell_type": "code",
   "execution_count": null,
   "id": "310f2007",
   "metadata": {},
   "outputs": [],
   "source": []
  }
 ],
 "metadata": {
  "kernelspec": {
   "display_name": "Python 3 (ipykernel)",
   "language": "python",
   "name": "python3"
  },
  "language_info": {
   "codemirror_mode": {
    "name": "ipython",
    "version": 3
   },
   "file_extension": ".py",
   "mimetype": "text/x-python",
   "name": "python",
   "nbconvert_exporter": "python",
   "pygments_lexer": "ipython3",
   "version": "3.9.7"
  }
 },
 "nbformat": 4,
 "nbformat_minor": 5
}
