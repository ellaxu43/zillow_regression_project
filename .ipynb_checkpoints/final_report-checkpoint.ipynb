{
 "cells": [
  {
   "cell_type": "code",
   "execution_count": 1,
   "id": "8e10935e",
   "metadata": {},
   "outputs": [],
   "source": [
    "import pandas as pd\n",
    "import numpy as np\n",
    "import matplotlib.pyplot as plt\n",
    "from statsmodels.formula.api import ols\n",
    "import env\n",
    "import dataprep\n",
    "\n",
    "from scipy import stats\n",
    "from sklearn.metrics import mean_squared_error, r2_score, explained_variance_score\n",
    "\n",
    "from sklearn.linear_model import LinearRegression\n",
    "from sklearn.feature_selection import f_regression \n",
    "from math import sqrt\n",
    "import seaborn as sns\n",
    "import warnings\n",
    "warnings.filterwarnings('ignore')\n",
    "import math\n",
    "\n",
    "from sklearn.model_selection import train_test_split\n",
    "import sklearn.linear_model\n",
    "import sklearn.feature_selection\n",
    "import sklearn.preprocessing\n",
    "from scipy import stats\n",
    "from sklearn.feature_selection import SelectKBest, RFE, f_regression, SequentialFeatureSelector"
   ]
  },
  {
   "cell_type": "markdown",
   "id": "e614c683",
   "metadata": {},
   "source": [
    "# Predicting Home Values\n",
    "Ella Xu\n",
    "Junior Data Scientist | Zillow Data Science Team"
   ]
  },
  {
   "cell_type": "markdown",
   "id": "91ee55a4",
   "metadata": {},
   "source": [
    "# Goals\n",
    "Zillow has a model that is designed to predict the property tax assessed values ('taxvaluedollarcnt') of Single Family Properties that had a transaction during 2017. The goal of this project is to look for insights that can help possibly improve this model, and make recommendations on how to improve it.\n",
    "\n",
    "# Planning\n",
    "* Setup my repository environment (.gitignore, README.md)\n",
    "* Import and test my wrangle functions\n",
    "* Define an test at least two hypothesis’s\n",
    "* Train and Evalutate three different classification models.\n",
    "* Create a csv file with predictions, from the model that perfoms the best\n",
    "* Report my conclusions and next steps in a presentation.\n",
    "\n",
    "\n",
    "# Executive Summary\n",
    "* My OLS Regressor Model had a Root Mean Squared Error (RMSE) of... beating my Baseline RMSE of..."
   ]
  },
  {
   "cell_type": "markdown",
   "id": "aa892bbb",
   "metadata": {},
   "source": [
    "# Acquiring the Data\n",
    "To acquire the Zillow data, I used the zillow database in the Codeup SQL server, and selected the requested columns. I then selected only Single Family Residential and Inferred Single Family Residential from the 2017 properties using propertylandusetypeid."
   ]
  },
  {
   "cell_type": "code",
   "execution_count": 2,
   "id": "5a26bc89",
   "metadata": {},
   "outputs": [
    {
     "name": "stdout",
     "output_type": "stream",
     "text": [
      "Using cached csv\n"
     ]
    },
    {
     "data": {
      "text/html": [
       "<div>\n",
       "<style scoped>\n",
       "    .dataframe tbody tr th:only-of-type {\n",
       "        vertical-align: middle;\n",
       "    }\n",
       "\n",
       "    .dataframe tbody tr th {\n",
       "        vertical-align: top;\n",
       "    }\n",
       "\n",
       "    .dataframe thead th {\n",
       "        text-align: right;\n",
       "    }\n",
       "</style>\n",
       "<table border=\"1\" class=\"dataframe\">\n",
       "  <thead>\n",
       "    <tr style=\"text-align: right;\">\n",
       "      <th></th>\n",
       "      <th>bedrooms</th>\n",
       "      <th>bathrooms</th>\n",
       "      <th>area</th>\n",
       "      <th>tax_value</th>\n",
       "      <th>year_built</th>\n",
       "      <th>fips</th>\n",
       "    </tr>\n",
       "  </thead>\n",
       "  <tbody>\n",
       "    <tr>\n",
       "      <th>0</th>\n",
       "      <td>0.0</td>\n",
       "      <td>0.0</td>\n",
       "      <td>NaN</td>\n",
       "      <td>27516.0</td>\n",
       "      <td>NaN</td>\n",
       "      <td>6037.0</td>\n",
       "    </tr>\n",
       "    <tr>\n",
       "      <th>1</th>\n",
       "      <td>0.0</td>\n",
       "      <td>0.0</td>\n",
       "      <td>NaN</td>\n",
       "      <td>10.0</td>\n",
       "      <td>NaN</td>\n",
       "      <td>6037.0</td>\n",
       "    </tr>\n",
       "    <tr>\n",
       "      <th>2</th>\n",
       "      <td>0.0</td>\n",
       "      <td>0.0</td>\n",
       "      <td>NaN</td>\n",
       "      <td>10.0</td>\n",
       "      <td>NaN</td>\n",
       "      <td>6037.0</td>\n",
       "    </tr>\n",
       "    <tr>\n",
       "      <th>3</th>\n",
       "      <td>0.0</td>\n",
       "      <td>0.0</td>\n",
       "      <td>NaN</td>\n",
       "      <td>2108.0</td>\n",
       "      <td>NaN</td>\n",
       "      <td>6037.0</td>\n",
       "    </tr>\n",
       "    <tr>\n",
       "      <th>4</th>\n",
       "      <td>4.0</td>\n",
       "      <td>2.0</td>\n",
       "      <td>3633.0</td>\n",
       "      <td>296425.0</td>\n",
       "      <td>2005.0</td>\n",
       "      <td>6037.0</td>\n",
       "    </tr>\n",
       "  </tbody>\n",
       "</table>\n",
       "</div>"
      ],
      "text/plain": [
       "   bedrooms  bathrooms    area  tax_value  year_built    fips\n",
       "0       0.0        0.0     NaN    27516.0         NaN  6037.0\n",
       "1       0.0        0.0     NaN       10.0         NaN  6037.0\n",
       "2       0.0        0.0     NaN       10.0         NaN  6037.0\n",
       "3       0.0        0.0     NaN     2108.0         NaN  6037.0\n",
       "4       4.0        2.0  3633.0   296425.0      2005.0  6037.0"
      ]
     },
     "execution_count": 2,
     "metadata": {},
     "output_type": "execute_result"
    }
   ],
   "source": [
    "zillow = dataprep.get_zillow_data()\n",
    "zillow.head()"
   ]
  },
  {
   "cell_type": "markdown",
   "id": "ccbf7250",
   "metadata": {},
   "source": [
    "# Cleaning the Data"
   ]
  },
  {
   "cell_type": "markdown",
   "id": "0944081b",
   "metadata": {},
   "source": [
    "* Rename the columns to make it easy to read. 'bedroomcnt':'bedrooms', \n",
    "                              'bathroomcnt':'bathrooms', \n",
    "                              'calculatedfinishedsquarefeet':'area',\n",
    "                              'taxvaluedollarcnt':'tax_value', \n",
    "                              'yearbuilt':'year_built'."
   ]
  },
  {
   "cell_type": "markdown",
   "id": "cf463e1f",
   "metadata": {},
   "source": [
    "* Remove outliers from 'bedrooms', 'bathrooms', 'squarefeet', and 'tax_value'.\n",
    "There were some extremely large houses with 17 bathrooms that I believed would not represent the average Single Family Residential. So I removed these with statistics upper and lower bounds."
   ]
  },
  {
   "cell_type": "markdown",
   "id": "516db810",
   "metadata": {},
   "source": [
    "*  Use fips number to find the county names. Rename the fips number with the correct county name, LA_county, orange_county, and ventura_county. Replace the null value with median value in year_built columns. Replace 1.75 bathrooms with 2.0 bathrooms count. \n"
   ]
  },
  {
   "cell_type": "markdown",
   "id": "52e48d2e",
   "metadata": {},
   "source": [
    "* Convert column datatypes, year_built and fips to object datatype. Make sure all datatypes are correct and ready to use. "
   ]
  },
  {
   "cell_type": "markdown",
   "id": "654a025a",
   "metadata": {},
   "source": [
    "* To make it easier to see how old a house was in 2017, feature engineering by add a column named home_age, means home's years old."
   ]
  },
  {
   "cell_type": "markdown",
   "id": "7a184d94",
   "metadata": {},
   "source": [
    "* Split the data 80/20 train test split. 70/30 train validate split"
   ]
  },
  {
   "cell_type": "code",
   "execution_count": 4,
   "id": "4e72fc59",
   "metadata": {},
   "outputs": [
    {
     "name": "stdout",
     "output_type": "stream",
     "text": [
      "Using cached csv\n"
     ]
    }
   ],
   "source": [
    "# Import the train, validate and test data from the function we made in dataprep.py\n",
    "train, validate, test = dataprep.prepare_zillow(dataprep.get_zillow_data())"
   ]
  },
  {
   "cell_type": "code",
   "execution_count": 5,
   "id": "c8a72854",
   "metadata": {},
   "outputs": [
    {
     "name": "stdout",
     "output_type": "stream",
     "text": [
      "(1055543, 10)\n",
      "(452376, 10)\n",
      "(376980, 10)\n"
     ]
    }
   ],
   "source": [
    "print(train.shape)\n",
    "print(validate.shape)\n",
    "print(test.shape)\n",
    "#print out the shape of the train, validate and test to double check. "
   ]
  },
  {
   "cell_type": "code",
   "execution_count": 6,
   "id": "bb36e5cb",
   "metadata": {},
   "outputs": [
    {
     "data": {
      "text/html": [
       "<div>\n",
       "<style scoped>\n",
       "    .dataframe tbody tr th:only-of-type {\n",
       "        vertical-align: middle;\n",
       "    }\n",
       "\n",
       "    .dataframe tbody tr th {\n",
       "        vertical-align: top;\n",
       "    }\n",
       "\n",
       "    .dataframe thead th {\n",
       "        text-align: right;\n",
       "    }\n",
       "</style>\n",
       "<table border=\"1\" class=\"dataframe\">\n",
       "  <thead>\n",
       "    <tr style=\"text-align: right;\">\n",
       "      <th></th>\n",
       "      <th>bedrooms</th>\n",
       "      <th>bathrooms</th>\n",
       "      <th>area</th>\n",
       "      <th>tax_value</th>\n",
       "      <th>year_built</th>\n",
       "      <th>home_age</th>\n",
       "      <th>county</th>\n",
       "      <th>county_LA_county</th>\n",
       "      <th>county_orange_county</th>\n",
       "      <th>county_ventura_county</th>\n",
       "    </tr>\n",
       "  </thead>\n",
       "  <tbody>\n",
       "    <tr>\n",
       "      <th>878659</th>\n",
       "      <td>2.0</td>\n",
       "      <td>1.0</td>\n",
       "      <td>762.0</td>\n",
       "      <td>312730.0</td>\n",
       "      <td>1950.0</td>\n",
       "      <td>67.0</td>\n",
       "      <td>LA_county</td>\n",
       "      <td>1</td>\n",
       "      <td>0</td>\n",
       "      <td>0</td>\n",
       "    </tr>\n",
       "    <tr>\n",
       "      <th>413927</th>\n",
       "      <td>2.0</td>\n",
       "      <td>1.0</td>\n",
       "      <td>828.0</td>\n",
       "      <td>119114.0</td>\n",
       "      <td>1952.0</td>\n",
       "      <td>65.0</td>\n",
       "      <td>LA_county</td>\n",
       "      <td>1</td>\n",
       "      <td>0</td>\n",
       "      <td>0</td>\n",
       "    </tr>\n",
       "    <tr>\n",
       "      <th>316568</th>\n",
       "      <td>2.0</td>\n",
       "      <td>1.0</td>\n",
       "      <td>1402.0</td>\n",
       "      <td>337395.0</td>\n",
       "      <td>1952.0</td>\n",
       "      <td>65.0</td>\n",
       "      <td>LA_county</td>\n",
       "      <td>1</td>\n",
       "      <td>0</td>\n",
       "      <td>0</td>\n",
       "    </tr>\n",
       "    <tr>\n",
       "      <th>268737</th>\n",
       "      <td>5.0</td>\n",
       "      <td>3.0</td>\n",
       "      <td>2825.0</td>\n",
       "      <td>442718.0</td>\n",
       "      <td>1999.0</td>\n",
       "      <td>18.0</td>\n",
       "      <td>orange_county</td>\n",
       "      <td>0</td>\n",
       "      <td>1</td>\n",
       "      <td>0</td>\n",
       "    </tr>\n",
       "    <tr>\n",
       "      <th>846980</th>\n",
       "      <td>4.0</td>\n",
       "      <td>2.0</td>\n",
       "      <td>1220.0</td>\n",
       "      <td>305309.0</td>\n",
       "      <td>1954.0</td>\n",
       "      <td>63.0</td>\n",
       "      <td>LA_county</td>\n",
       "      <td>1</td>\n",
       "      <td>0</td>\n",
       "      <td>0</td>\n",
       "    </tr>\n",
       "  </tbody>\n",
       "</table>\n",
       "</div>"
      ],
      "text/plain": [
       "        bedrooms  bathrooms    area  tax_value year_built  home_age  \\\n",
       "878659       2.0        1.0   762.0   312730.0     1950.0      67.0   \n",
       "413927       2.0        1.0   828.0   119114.0     1952.0      65.0   \n",
       "316568       2.0        1.0  1402.0   337395.0     1952.0      65.0   \n",
       "268737       5.0        3.0  2825.0   442718.0     1999.0      18.0   \n",
       "846980       4.0        2.0  1220.0   305309.0     1954.0      63.0   \n",
       "\n",
       "               county  county_LA_county  county_orange_county  \\\n",
       "878659      LA_county                 1                     0   \n",
       "413927      LA_county                 1                     0   \n",
       "316568      LA_county                 1                     0   \n",
       "268737  orange_county                 0                     1   \n",
       "846980      LA_county                 1                     0   \n",
       "\n",
       "        county_ventura_county  \n",
       "878659                      0  \n",
       "413927                      0  \n",
       "316568                      0  \n",
       "268737                      0  \n",
       "846980                      0  "
      ]
     },
     "execution_count": 6,
     "metadata": {},
     "output_type": "execute_result"
    }
   ],
   "source": [
    "train.head()\n",
    "#Make sure the columns are all present. "
   ]
  },
  {
   "cell_type": "code",
   "execution_count": 7,
   "id": "0daae30c",
   "metadata": {},
   "outputs": [
    {
     "name": "stdout",
     "output_type": "stream",
     "text": [
      "<class 'pandas.core.frame.DataFrame'>\n",
      "Int64Index: 1055543 entries, 878659 to 1525367\n",
      "Data columns (total 10 columns):\n",
      " #   Column                 Non-Null Count    Dtype  \n",
      "---  ------                 --------------    -----  \n",
      " 0   bedrooms               1055543 non-null  float64\n",
      " 1   bathrooms              1055543 non-null  float64\n",
      " 2   area                   1055543 non-null  float64\n",
      " 3   tax_value              1055543 non-null  float64\n",
      " 4   year_built             1055543 non-null  object \n",
      " 5   home_age               1055543 non-null  float64\n",
      " 6   county                 1055543 non-null  object \n",
      " 7   county_LA_county       1055543 non-null  uint8  \n",
      " 8   county_orange_county   1055543 non-null  uint8  \n",
      " 9   county_ventura_county  1055543 non-null  uint8  \n",
      "dtypes: float64(5), object(2), uint8(3)\n",
      "memory usage: 67.4+ MB\n"
     ]
    }
   ],
   "source": [
    "train.info()\n",
    "# Double check the datatype of each columns. "
   ]
  },
  {
   "cell_type": "code",
   "execution_count": 8,
   "id": "40e2f510",
   "metadata": {},
   "outputs": [
    {
     "data": {
      "text/html": [
       "<div>\n",
       "<style scoped>\n",
       "    .dataframe tbody tr th:only-of-type {\n",
       "        vertical-align: middle;\n",
       "    }\n",
       "\n",
       "    .dataframe tbody tr th {\n",
       "        vertical-align: top;\n",
       "    }\n",
       "\n",
       "    .dataframe thead th {\n",
       "        text-align: right;\n",
       "    }\n",
       "</style>\n",
       "<table border=\"1\" class=\"dataframe\">\n",
       "  <thead>\n",
       "    <tr style=\"text-align: right;\">\n",
       "      <th></th>\n",
       "      <th>bedrooms</th>\n",
       "      <th>bathrooms</th>\n",
       "      <th>area</th>\n",
       "      <th>tax_value</th>\n",
       "      <th>home_age</th>\n",
       "      <th>county_LA_county</th>\n",
       "      <th>county_orange_county</th>\n",
       "      <th>county_ventura_county</th>\n",
       "    </tr>\n",
       "  </thead>\n",
       "  <tbody>\n",
       "    <tr>\n",
       "      <th>count</th>\n",
       "      <td>1.055543e+06</td>\n",
       "      <td>1.055543e+06</td>\n",
       "      <td>1.055543e+06</td>\n",
       "      <td>1.055543e+06</td>\n",
       "      <td>1.055543e+06</td>\n",
       "      <td>1.055543e+06</td>\n",
       "      <td>1.055543e+06</td>\n",
       "      <td>1.055543e+06</td>\n",
       "    </tr>\n",
       "    <tr>\n",
       "      <th>mean</th>\n",
       "      <td>3.219526e+00</td>\n",
       "      <td>2.062676e+00</td>\n",
       "      <td>1.663781e+03</td>\n",
       "      <td>3.348739e+05</td>\n",
       "      <td>5.740161e+01</td>\n",
       "      <td>6.698600e-01</td>\n",
       "      <td>2.523791e-01</td>\n",
       "      <td>7.776092e-02</td>\n",
       "    </tr>\n",
       "    <tr>\n",
       "      <th>std</th>\n",
       "      <td>7.834944e-01</td>\n",
       "      <td>7.127042e-01</td>\n",
       "      <td>5.714532e+02</td>\n",
       "      <td>2.070981e+05</td>\n",
       "      <td>2.075536e+01</td>\n",
       "      <td>4.702635e-01</td>\n",
       "      <td>4.343778e-01</td>\n",
       "      <td>2.677951e-01</td>\n",
       "    </tr>\n",
       "    <tr>\n",
       "      <th>min</th>\n",
       "      <td>2.000000e+00</td>\n",
       "      <td>1.000000e+00</td>\n",
       "      <td>3.000000e+00</td>\n",
       "      <td>1.000000e+00</td>\n",
       "      <td>1.000000e+00</td>\n",
       "      <td>0.000000e+00</td>\n",
       "      <td>0.000000e+00</td>\n",
       "      <td>0.000000e+00</td>\n",
       "    </tr>\n",
       "    <tr>\n",
       "      <th>25%</th>\n",
       "      <td>3.000000e+00</td>\n",
       "      <td>2.000000e+00</td>\n",
       "      <td>1.234000e+03</td>\n",
       "      <td>1.752610e+05</td>\n",
       "      <td>4.500000e+01</td>\n",
       "      <td>0.000000e+00</td>\n",
       "      <td>0.000000e+00</td>\n",
       "      <td>0.000000e+00</td>\n",
       "    </tr>\n",
       "    <tr>\n",
       "      <th>50%</th>\n",
       "      <td>3.000000e+00</td>\n",
       "      <td>2.000000e+00</td>\n",
       "      <td>1.555000e+03</td>\n",
       "      <td>2.999190e+05</td>\n",
       "      <td>6.000000e+01</td>\n",
       "      <td>1.000000e+00</td>\n",
       "      <td>0.000000e+00</td>\n",
       "      <td>0.000000e+00</td>\n",
       "    </tr>\n",
       "    <tr>\n",
       "      <th>75%</th>\n",
       "      <td>4.000000e+00</td>\n",
       "      <td>2.500000e+00</td>\n",
       "      <td>2.004000e+03</td>\n",
       "      <td>4.600000e+05</td>\n",
       "      <td>6.800000e+01</td>\n",
       "      <td>1.000000e+00</td>\n",
       "      <td>1.000000e+00</td>\n",
       "      <td>0.000000e+00</td>\n",
       "    </tr>\n",
       "    <tr>\n",
       "      <th>max</th>\n",
       "      <td>5.000000e+00</td>\n",
       "      <td>4.000000e+00</td>\n",
       "      <td>3.410000e+03</td>\n",
       "      <td>9.509640e+05</td>\n",
       "      <td>2.050000e+02</td>\n",
       "      <td>1.000000e+00</td>\n",
       "      <td>1.000000e+00</td>\n",
       "      <td>1.000000e+00</td>\n",
       "    </tr>\n",
       "  </tbody>\n",
       "</table>\n",
       "</div>"
      ],
      "text/plain": [
       "           bedrooms     bathrooms          area     tax_value      home_age  \\\n",
       "count  1.055543e+06  1.055543e+06  1.055543e+06  1.055543e+06  1.055543e+06   \n",
       "mean   3.219526e+00  2.062676e+00  1.663781e+03  3.348739e+05  5.740161e+01   \n",
       "std    7.834944e-01  7.127042e-01  5.714532e+02  2.070981e+05  2.075536e+01   \n",
       "min    2.000000e+00  1.000000e+00  3.000000e+00  1.000000e+00  1.000000e+00   \n",
       "25%    3.000000e+00  2.000000e+00  1.234000e+03  1.752610e+05  4.500000e+01   \n",
       "50%    3.000000e+00  2.000000e+00  1.555000e+03  2.999190e+05  6.000000e+01   \n",
       "75%    4.000000e+00  2.500000e+00  2.004000e+03  4.600000e+05  6.800000e+01   \n",
       "max    5.000000e+00  4.000000e+00  3.410000e+03  9.509640e+05  2.050000e+02   \n",
       "\n",
       "       county_LA_county  county_orange_county  county_ventura_county  \n",
       "count      1.055543e+06          1.055543e+06           1.055543e+06  \n",
       "mean       6.698600e-01          2.523791e-01           7.776092e-02  \n",
       "std        4.702635e-01          4.343778e-01           2.677951e-01  \n",
       "min        0.000000e+00          0.000000e+00           0.000000e+00  \n",
       "25%        0.000000e+00          0.000000e+00           0.000000e+00  \n",
       "50%        1.000000e+00          0.000000e+00           0.000000e+00  \n",
       "75%        1.000000e+00          1.000000e+00           0.000000e+00  \n",
       "max        1.000000e+00          1.000000e+00           1.000000e+00  "
      ]
     },
     "execution_count": 8,
     "metadata": {},
     "output_type": "execute_result"
    }
   ],
   "source": [
    "train.describe()"
   ]
  },
  {
   "cell_type": "markdown",
   "id": "267bc736",
   "metadata": {},
   "source": [
    "# Explore the Train dataset"
   ]
  },
  {
   "cell_type": "markdown",
   "id": "7c027062",
   "metadata": {},
   "source": [
    "## Dataset Overview Questions: "
   ]
  },
  {
   "cell_type": "markdown",
   "id": "3b6a32e8",
   "metadata": {},
   "source": [
    "### What's the distribution of the home values? "
   ]
  },
  {
   "cell_type": "code",
   "execution_count": 9,
   "id": "fd6e1510",
   "metadata": {},
   "outputs": [
    {
     "name": "stdout",
     "output_type": "stream",
     "text": [
      "The mean of the home values are 334873.88\n",
      "The min of the home values are 1.0\n",
      "The max of the home values are 950964.0\n"
     ]
    }
   ],
   "source": [
    "print(\"The mean of the home values are\", round(train.tax_value.mean(),2))\n",
    "print(\"The min of the home values are\", train.tax_value.min())\n",
    "print(\"The max of the home values are\",  train.tax_value.max())"
   ]
  },
  {
   "cell_type": "code",
   "execution_count": 10,
   "id": "64b73331",
   "metadata": {},
   "outputs": [
    {
     "data": {
      "text/plain": [
       "<AxesSubplot:xlabel='tax_value'>"
      ]
     },
     "execution_count": 10,
     "metadata": {},
     "output_type": "execute_result"
    },
    {
     "data": {
      "image/png": "[encoded data removed]",
      "text/plain": [
       "<Figure size 432x288 with 1 Axes>"
      ]
     },
     "metadata": {},
     "output_type": "display_data"
    }
   ],
   "source": [
    "sns.set_theme(style=\"whitegrid\")\n",
    "sns.boxplot(data=train, x=\"tax_value\")\n",
    "# The majority of home values are from 0 - 900k\n",
    "#there are a couple outliers which are greater than 900k."
   ]
  },
  {
   "cell_type": "markdown",
   "id": "aa15e507",
   "metadata": {},
   "source": [
    "### What's the distribution of the building years? "
   ]
  },
  {
   "cell_type": "code",
   "execution_count": 11,
   "id": "0de67588",
   "metadata": {},
   "outputs": [
    {
     "data": {
      "image/png": "[encoded data removed]",
      "text/plain": [
       "<Figure size 432x288 with 1 Axes>"
      ]
     },
     "metadata": {},
     "output_type": "display_data"
    }
   ],
   "source": [
    "plt.hist(train[['year_built']], bins=30)\n",
    "plt.show()"
   ]
  },
  {
   "cell_type": "markdown",
   "id": "d848e607",
   "metadata": {},
   "source": [
    "I created 30 bins to fit the distribution. The building years histgram shows a normal distribution. More than half of homes are built between 1960-1975."
   ]
  },
  {
   "cell_type": "markdown",
   "id": "f070a1fe",
   "metadata": {},
   "source": [
    "### What's tax_value of homes through the years? \n",
    "From the chart below, we have found that from 1900 - 2016 year built homes have higher home values, seems like younger homes have higher tax value. "
   ]
  },
  {
   "cell_type": "code",
   "execution_count": 11,
   "id": "d2c6d019",
   "metadata": {},
   "outputs": [
    {
     "data": {
      "text/plain": [
       "<matplotlib.lines.Line2D at 0x7fdc2583b190>"
      ]
     },
     "execution_count": 11,
     "metadata": {},
     "output_type": "execute_result"
    },
    {
     "data": {
      "image/png": "[encoded data removed]",
      "text/plain": [
       "<Figure size 432x288 with 1 Axes>"
      ]
     },
     "metadata": {},
     "output_type": "display_data"
    }
   ],
   "source": [
    "sns.lineplot(x= 'year_built', y= 'tax_value', data= train)\n",
    "plt.title('Home Values Line Plot')\n",
    "mean = train.tax_value.mean()\n",
    "plt.axhline(mean, ls='--', color='grey')\n",
    "#The grey line is the mean of the all tax_value. "
   ]
  },
  {
   "cell_type": "markdown",
   "id": "b5b2e8fb",
   "metadata": {},
   "source": [
    "The distribution of tax_values through years are hard to draw a clue, from 1875-1900, the home values\n",
    "were up and down, very unstable. However, after 1900, seems younger homes are value more and more. "
   ]
  },
  {
   "cell_type": "markdown",
   "id": "02150130",
   "metadata": {},
   "source": [
    "### Are homes with more bedrooms and bathrooms worth more?"
   ]
  },
  {
   "cell_type": "code",
   "execution_count": 12,
   "id": "d99e04dd",
   "metadata": {},
   "outputs": [
    {
     "data": {
      "text/plain": [
       "<seaborn.axisgrid.FacetGrid at 0x7fdc20063fa0>"
      ]
     },
     "execution_count": 12,
     "metadata": {},
     "output_type": "execute_result"
    },
    {
     "data": {
      "image/png": "[encoded data removed]",
      "text/plain": [
       "<Figure size 422.05x360 with 1 Axes>"
      ]
     },
     "metadata": {},
     "output_type": "display_data"
    }
   ],
   "source": [
    "sns.relplot(\n",
    "    data=train, x=\"bathrooms\", y=\"tax_value\",\n",
    "    hue=\"bedrooms\", kind=\"line\",\n",
    ")"
   ]
  },
  {
   "cell_type": "markdown",
   "id": "603e56af",
   "metadata": {},
   "source": [
    "Yes, homes with more bedrooms and bathrooms worth more. "
   ]
  },
  {
   "cell_type": "markdown",
   "id": "2c7223e1",
   "metadata": {},
   "source": [
    "### Are homes in certain areas worth more than one other? "
   ]
  },
  {
   "cell_type": "code",
   "execution_count": 18,
   "id": "2dad138f",
   "metadata": {},
   "outputs": [
    {
     "data": {
      "text/plain": [
       "<seaborn.axisgrid.FacetGrid at 0x7fa6ea899730>"
      ]
     },
     "execution_count": 18,
     "metadata": {},
     "output_type": "execute_result"
    },
    {
     "data": {
      "image/png": "[encoded data removed]",
      "text/plain": [
       "<Figure size 360x360 with 1 Axes>"
      ]
     },
     "metadata": {
      "needs_background": "light"
     },
     "output_type": "display_data"
    }
   ],
   "source": [
    "sns.catplot(x=\"county\", y=\"tax_value\",kind=\"box\", data=train.sample(2000))"
   ]
  },
  {
   "cell_type": "markdown",
   "id": "10e2063b",
   "metadata": {},
   "source": [
    "LA_county's homes overall have a lower average home values. "
   ]
  },
  {
   "cell_type": "markdown",
   "id": "9fce670a",
   "metadata": {},
   "source": [
    "### Are homes with bigger area worth more? "
   ]
  },
  {
   "cell_type": "code",
   "execution_count": 12,
   "id": "139b868a",
   "metadata": {},
   "outputs": [],
   "source": [
    "train['home_size'] = \"\"\n",
    "\n",
    "train.loc[(train.area >2300) &(train.area <= 3500), 'home_size'] = \"C-large\"\n",
    "train.loc[train.area <= 1600, 'home_size'] = \"A-small\"\n",
    "\n",
    "train.loc[(train.area >1600) &(train.area <= 2300), 'home_size'] = \"B-medium\"\n"
   ]
  },
  {
   "cell_type": "code",
   "execution_count": 35,
   "id": "171a2194",
   "metadata": {},
   "outputs": [
    {
     "data": {
      "image/png": "[encoded data removed]",
      "text/plain": [
       "<Figure size 1204.35x360 with 3 Axes>"
      ]
     },
     "metadata": {},
     "output_type": "display_data"
    }
   ],
   "source": [
    "sns.relplot(\n",
    "    data=train, x=\"bathrooms\", y=\"tax_value\",col = \"home_size\",style = 'bedrooms',\n",
    "    kind=\"line\"\n",
    ")\n",
    "sns.set(font_scale = 10)"
   ]
  },
  {
   "cell_type": "markdown",
   "id": "c277aa1e",
   "metadata": {},
   "source": [
    "Yes, home with bigger areas are worth more. "
   ]
  },
  {
   "cell_type": "markdown",
   "id": "18a884d9",
   "metadata": {},
   "source": [
    "### What are two features have strongest relationship with tax_value? "
   ]
  },
  {
   "cell_type": "code",
   "execution_count": 13,
   "id": "b0698421",
   "metadata": {},
   "outputs": [],
   "source": [
    "train = train.drop(columns = ['home_size'])"
   ]
  },
  {
   "cell_type": "code",
   "execution_count": 14,
   "id": "915c37e3",
   "metadata": {},
   "outputs": [
    {
     "data": {
      "text/html": [
       "<div>\n",
       "<style scoped>\n",
       "    .dataframe tbody tr th:only-of-type {\n",
       "        vertical-align: middle;\n",
       "    }\n",
       "\n",
       "    .dataframe tbody tr th {\n",
       "        vertical-align: top;\n",
       "    }\n",
       "\n",
       "    .dataframe thead th {\n",
       "        text-align: right;\n",
       "    }\n",
       "</style>\n",
       "<table border=\"1\" class=\"dataframe\">\n",
       "  <thead>\n",
       "    <tr style=\"text-align: right;\">\n",
       "      <th></th>\n",
       "      <th>bedrooms</th>\n",
       "      <th>bathrooms</th>\n",
       "      <th>area</th>\n",
       "      <th>tax_value</th>\n",
       "      <th>year_built</th>\n",
       "      <th>home_age</th>\n",
       "      <th>county</th>\n",
       "      <th>county_LA_county</th>\n",
       "      <th>county_orange_county</th>\n",
       "      <th>county_ventura_county</th>\n",
       "    </tr>\n",
       "  </thead>\n",
       "  <tbody>\n",
       "    <tr>\n",
       "      <th>878659</th>\n",
       "      <td>2.0</td>\n",
       "      <td>1.0</td>\n",
       "      <td>762.0</td>\n",
       "      <td>312730.0</td>\n",
       "      <td>1950.0</td>\n",
       "      <td>67.0</td>\n",
       "      <td>LA_county</td>\n",
       "      <td>1</td>\n",
       "      <td>0</td>\n",
       "      <td>0</td>\n",
       "    </tr>\n",
       "    <tr>\n",
       "      <th>413927</th>\n",
       "      <td>2.0</td>\n",
       "      <td>1.0</td>\n",
       "      <td>828.0</td>\n",
       "      <td>119114.0</td>\n",
       "      <td>1952.0</td>\n",
       "      <td>65.0</td>\n",
       "      <td>LA_county</td>\n",
       "      <td>1</td>\n",
       "      <td>0</td>\n",
       "      <td>0</td>\n",
       "    </tr>\n",
       "    <tr>\n",
       "      <th>316568</th>\n",
       "      <td>2.0</td>\n",
       "      <td>1.0</td>\n",
       "      <td>1402.0</td>\n",
       "      <td>337395.0</td>\n",
       "      <td>1952.0</td>\n",
       "      <td>65.0</td>\n",
       "      <td>LA_county</td>\n",
       "      <td>1</td>\n",
       "      <td>0</td>\n",
       "      <td>0</td>\n",
       "    </tr>\n",
       "    <tr>\n",
       "      <th>268737</th>\n",
       "      <td>5.0</td>\n",
       "      <td>3.0</td>\n",
       "      <td>2825.0</td>\n",
       "      <td>442718.0</td>\n",
       "      <td>1999.0</td>\n",
       "      <td>18.0</td>\n",
       "      <td>orange_county</td>\n",
       "      <td>0</td>\n",
       "      <td>1</td>\n",
       "      <td>0</td>\n",
       "    </tr>\n",
       "    <tr>\n",
       "      <th>846980</th>\n",
       "      <td>4.0</td>\n",
       "      <td>2.0</td>\n",
       "      <td>1220.0</td>\n",
       "      <td>305309.0</td>\n",
       "      <td>1954.0</td>\n",
       "      <td>63.0</td>\n",
       "      <td>LA_county</td>\n",
       "      <td>1</td>\n",
       "      <td>0</td>\n",
       "      <td>0</td>\n",
       "    </tr>\n",
       "  </tbody>\n",
       "</table>\n",
       "</div>"
      ],
      "text/plain": [
       "        bedrooms  bathrooms    area  tax_value year_built  home_age  \\\n",
       "878659       2.0        1.0   762.0   312730.0     1950.0      67.0   \n",
       "413927       2.0        1.0   828.0   119114.0     1952.0      65.0   \n",
       "316568       2.0        1.0  1402.0   337395.0     1952.0      65.0   \n",
       "268737       5.0        3.0  2825.0   442718.0     1999.0      18.0   \n",
       "846980       4.0        2.0  1220.0   305309.0     1954.0      63.0   \n",
       "\n",
       "               county  county_LA_county  county_orange_county  \\\n",
       "878659      LA_county                 1                     0   \n",
       "413927      LA_county                 1                     0   \n",
       "316568      LA_county                 1                     0   \n",
       "268737  orange_county                 0                     1   \n",
       "846980      LA_county                 1                     0   \n",
       "\n",
       "        county_ventura_county  \n",
       "878659                      0  \n",
       "413927                      0  \n",
       "316568                      0  \n",
       "268737                      0  \n",
       "846980                      0  "
      ]
     },
     "execution_count": 14,
     "metadata": {},
     "output_type": "execute_result"
    }
   ],
   "source": [
    "train.head()"
   ]
  },
  {
   "cell_type": "code",
   "execution_count": 15,
   "id": "43ef607c",
   "metadata": {},
   "outputs": [],
   "source": [
    "#first, let's create X_train and y_train for scaling our data. \n",
    "X_train = train.drop(columns=['tax_value','county'])\n",
    "y_train = train.tax_value\n",
    "\n",
    "X_validate = validate.drop(columns=['tax_value','county'])\n",
    "y_validate = validate.tax_value\n",
    "\n",
    "\n",
    "X_test = test.drop(columns=['tax_value','county'])\n",
    "y_test = test.tax_value\n",
    "\n"
   ]
  },
  {
   "cell_type": "code",
   "execution_count": 16,
   "id": "bee5eab0",
   "metadata": {},
   "outputs": [],
   "source": [
    "def scale_data(train, validate, test, return_scaler=False):\n",
    "    '''\n",
    "    Scales the 3 data splits.\n",
    "    \n",
    "    takes in the train, validate, and test data splits and returns their scaled counterparts.\n",
    "    \n",
    "    If return_scaler is true, the scaler object will be returned as well.\n",
    "    '''\n",
    "    columns_to_scale = ['bedrooms', 'bathrooms', 'area','home_age']\n",
    "    \n",
    "    train_scaled = train.copy()\n",
    "    validate_scaled = validate.copy()\n",
    "    test_scaled = test.copy()\n",
    "    \n",
    "    scaler = sklearn.preprocessing.MinMaxScaler()\n",
    "    scaler.fit(train[columns_to_scale])\n",
    "    \n",
    "    train_scaled[columns_to_scale] = scaler.transform(train[columns_to_scale])\n",
    "    validate_scaled[columns_to_scale] = scaler.transform(validate[columns_to_scale])\n",
    "    test_scaled[columns_to_scale] = scaler.transform(test[columns_to_scale])\n",
    "    \n",
    "    if return_scaler:\n",
    "        return scaler, train_scaled, validate_scaled, test_scaled\n",
    "    else:\n",
    "        return train_scaled, validate_scaled, test_scaled"
   ]
  },
  {
   "cell_type": "code",
   "execution_count": 17,
   "id": "6cd6336e",
   "metadata": {},
   "outputs": [],
   "source": [
    "train_scaled, validate_scaled, test_scaled = scale_data(train, validate, test)"
   ]
  },
  {
   "cell_type": "code",
   "execution_count": 33,
   "id": "e9ddf01d",
   "metadata": {},
   "outputs": [
    {
     "data": {
      "text/plain": [
       "Index(['bedrooms', 'bathrooms', 'area', 'tax_value', 'year_built', 'home_age',\n",
       "       'county', 'county_LA_county', 'county_orange_county',\n",
       "       'county_ventura_county'],\n",
       "      dtype='object')"
      ]
     },
     "execution_count": 33,
     "metadata": {},
     "output_type": "execute_result"
    }
   ],
   "source": [
    "train_scaled.columns"
   ]
  },
  {
   "cell_type": "code",
   "execution_count": 34,
   "id": "0cb1a10a",
   "metadata": {},
   "outputs": [],
   "source": [
    "X_train_scaled = train_scaled.drop(columns=['tax_value','county','county_LA_county', 'county_orange_county',\n",
    "       'county_ventura_county'])\n",
    "\n",
    "X_validate_scaled = validate_scaled.drop(columns=['tax_value','county','county_LA_county', 'county_orange_county',\n",
    "       'county_ventura_county'])\n",
    "\n",
    "X_test_scaled = test_scaled.drop(columns=['tax_value','county','county_LA_county', 'county_orange_county',\n",
    "       'county_ventura_county'])\n",
    "\n",
    "y_train = train[['tax_value']]\n",
    "\n",
    "y_validate = validate[['tax_value']]\n",
    "\n",
    "y_test = test[['tax_value']]"
   ]
  },
  {
   "cell_type": "markdown",
   "id": "a5687c3b",
   "metadata": {},
   "source": [
    "***Select K Best***\n",
    "\n",
    "\n",
    "looks at each feature in isolation against the target based on correlation\n",
    "fastest of all approaches covered in this lesson\n",
    "doesn't consider feature interactions"
   ]
  },
  {
   "cell_type": "code",
   "execution_count": 35,
   "id": "f3ebdabf",
   "metadata": {},
   "outputs": [
    {
     "data": {
      "text/plain": [
       "SelectKBest(k=2, score_func=<function f_regression at 0x7fb901a0cf70>)"
      ]
     },
     "execution_count": 35,
     "metadata": {},
     "output_type": "execute_result"
    }
   ],
   "source": [
    "kbest = SelectKBest(f_regression, k=2)\n",
    "kbest.fit(X_train_scaled, y_train)"
   ]
  },
  {
   "cell_type": "code",
   "execution_count": 36,
   "id": "2a962a2b",
   "metadata": {},
   "outputs": [
    {
     "data": {
      "text/plain": [
       "Index(['bathrooms', 'area'], dtype='object')"
      ]
     },
     "execution_count": 36,
     "metadata": {},
     "output_type": "execute_result"
    }
   ],
   "source": [
    "X_train_scaled.columns[kbest.get_support()]"
   ]
  },
  {
   "cell_type": "markdown",
   "id": "40be0b9b",
   "metadata": {},
   "source": [
    "The select k best get us the best two features are area and bathrooms and area. "
   ]
  },
  {
   "cell_type": "markdown",
   "id": "d2c6ac06",
   "metadata": {},
   "source": [
    "***RFE Recursive Feature Elimination***\n",
    "\n",
    "Progressively eliminate features based on importance to the model\n",
    "Requires a model with either a .coef_ or .feature_importances_ property"
   ]
  },
  {
   "cell_type": "code",
   "execution_count": 37,
   "id": "95fd7958",
   "metadata": {},
   "outputs": [
    {
     "data": {
      "text/plain": [
       "RFE(estimator=LinearRegression(), n_features_to_select=2)"
      ]
     },
     "execution_count": 37,
     "metadata": {},
     "output_type": "execute_result"
    }
   ],
   "source": [
    "model = LinearRegression() #first, we will create the model. \n",
    "rfe = RFE(model, n_features_to_select=2)\n",
    "rfe.fit(X_train_scaled, y_train)"
   ]
  },
  {
   "cell_type": "code",
   "execution_count": 38,
   "id": "24add1fe",
   "metadata": {},
   "outputs": [
    {
     "data": {
      "text/plain": [
       "Index(['bathrooms', 'area'], dtype='object')"
      ]
     },
     "execution_count": 38,
     "metadata": {},
     "output_type": "execute_result"
    }
   ],
   "source": [
    "X_train_scaled.columns[rfe.get_support()]# Get list of top K features. "
   ]
  },
  {
   "cell_type": "markdown",
   "id": "da0670e6",
   "metadata": {},
   "source": [
    "Recursive Feature Elimination Top Two Features are bathrooms and area. "
   ]
  },
  {
   "cell_type": "markdown",
   "id": "31eee86c",
   "metadata": {},
   "source": [
    "\n",
    "# Statistical Test Questions: "
   ]
  },
  {
   "cell_type": "markdown",
   "id": "1f805c2a",
   "metadata": {},
   "source": [
    "### 1. Are homes with more bedrooms worth more?\n",
    "\n",
    "### 2. Do younger homes worth more? "
   ]
  },
  {
   "cell_type": "code",
   "execution_count": 28,
   "id": "390bb2cb",
   "metadata": {},
   "outputs": [],
   "source": [
    "alpha = 0.05 #let's assume alpha is 0.05"
   ]
  },
  {
   "cell_type": "markdown",
   "id": "d82031c3",
   "metadata": {},
   "source": [
    "### 1. Are homes with more bedrooms worth more?\n",
    "H0: There is no difference in tax_value between homes with 2 or 3 bedrooms vs homes with 4 or 5 bedrooms.\n",
    "\n",
    "Ha: There is a difference in tax_value between homes with 2 or 3 bedrooms vs homes with 4 or 5 bedrooms.\n"
   ]
  },
  {
   "cell_type": "code",
   "execution_count": 24,
   "id": "d28a4814",
   "metadata": {},
   "outputs": [
    {
     "data": {
      "text/plain": [
       "<AxesSubplot:xlabel='bedrooms', ylabel='tax_value'>"
      ]
     },
     "execution_count": 24,
     "metadata": {},
     "output_type": "execute_result"
    },
    {
     "data": {
      "image/png": "[encoded data removed]",
      "text/plain": [
       "<Figure size 432x288 with 1 Axes>"
      ]
     },
     "metadata": {},
     "output_type": "display_data"
    }
   ],
   "source": [
    "sns.boxplot(x=\"bedrooms\", y=\"tax_value\", data=train)"
   ]
  },
  {
   "cell_type": "code",
   "execution_count": 26,
   "id": "1c6dbc1a",
   "metadata": {},
   "outputs": [],
   "source": [
    "tax_value_1_2Bd = train[(train.bedrooms == 2) | (train.bedrooms == 3)].tax_value\n",
    "tax_value_4_5Bd = train[(train.bedrooms == 4) | (train.bedrooms == 5)].tax_value"
   ]
  },
  {
   "cell_type": "code",
   "execution_count": 29,
   "id": "9b55be05",
   "metadata": {},
   "outputs": [
    {
     "name": "stdout",
     "output_type": "stream",
     "text": [
      "We reject the null hypothesis\n"
     ]
    }
   ],
   "source": [
    "# Perform a t test becuase we are comparsing two means\n",
    "t, p = stats.ttest_ind(tax_value_1_2Bd,tax_value_4_5Bd, equal_var=False )\n",
    "t, p\n",
    "\n",
    "if p < alpha:\n",
    "    print(\"We reject the null hypothesis\")\n",
    "\n",
    "else:\n",
    "    print(\"We fail to reject the null hypothesis\")"
   ]
  },
  {
   "cell_type": "markdown",
   "id": "cf46bddb",
   "metadata": {},
   "source": [
    "Conclusion: There is a difference in tax_value between homes with 2 or 3 bedrooms vs homes with 4 or 5 bedrooms.\n",
    "\n",
    "Takeaway: The data shows that increased bedroom count correlates with increased tax_value."
   ]
  },
  {
   "cell_type": "markdown",
   "id": "0c355032",
   "metadata": {},
   "source": [
    "### 2. Are younger homes higher in tax_value than old homes?\n",
    "H0: Home ages have no relationship with tax values \n",
    "\n",
    "Ha: Home ages have relationship with tax values "
   ]
  },
  {
   "cell_type": "code",
   "execution_count": 76,
   "id": "9acc638d",
   "metadata": {},
   "outputs": [
    {
     "data": {
      "text/plain": [
       "(0.0, 2000000.0)"
      ]
     },
     "execution_count": 76,
     "metadata": {},
     "output_type": "execute_result"
    },
    {
     "data": {
      "image/png": "[encoded data removed]",
      "text/plain": [
       "<Figure size 360x360 with 1 Axes>"
      ]
     },
     "metadata": {
      "needs_background": "light"
     },
     "output_type": "display_data"
    }
   ],
   "source": [
    "sns.lmplot(data = train.sample(2000), x = 'home_age', y = 'tax_value',line_kws={'color': 'purple'})\n",
    "plt.ylim(0,2000000)"
   ]
  },
  {
   "cell_type": "code",
   "execution_count": 30,
   "id": "8010cfff",
   "metadata": {},
   "outputs": [
    {
     "name": "stdout",
     "output_type": "stream",
     "text": [
      "We reject the null hypothesis\n"
     ]
    }
   ],
   "source": [
    "corr, p = stats.pearsonr(train.home_age, train.tax_value)\n",
    "\n",
    "\n",
    "corr, p\n",
    "\n",
    "\n",
    "if p < alpha:\n",
    "    print(\"We reject the null hypothesis\")\n",
    "\n",
    "else:\n",
    "    print(\"We fail to reject the null hypothesis\")"
   ]
  },
  {
   "cell_type": "markdown",
   "id": "017d06f0",
   "metadata": {},
   "source": [
    "Conclusion: Homes older than the average cost less than homes younger than the average.\n",
    "\n",
    "Takeaway: Year_built was number 3 in most valued features, so this makes sense. Younger homes have higher tax value than older homes."
   ]
  },
  {
   "cell_type": "markdown",
   "id": "e63fb0c7",
   "metadata": {},
   "source": [
    "## Key Takeaways From Exploration "
   ]
  },
  {
   "cell_type": "markdown",
   "id": "be9d5db0",
   "metadata": {},
   "source": [
    "# Modeling "
   ]
  },
  {
   "cell_type": "markdown",
   "id": "fde11927",
   "metadata": {},
   "source": [
    "## Baseline Model"
   ]
  },
  {
   "cell_type": "code",
   "execution_count": 63,
   "id": "1cb16520",
   "metadata": {},
   "outputs": [
    {
     "data": {
      "text/html": [
       "<div>\n",
       "<style scoped>\n",
       "    .dataframe tbody tr th:only-of-type {\n",
       "        vertical-align: middle;\n",
       "    }\n",
       "\n",
       "    .dataframe tbody tr th {\n",
       "        vertical-align: top;\n",
       "    }\n",
       "\n",
       "    .dataframe thead th {\n",
       "        text-align: right;\n",
       "    }\n",
       "</style>\n",
       "<table border=\"1\" class=\"dataframe\">\n",
       "  <thead>\n",
       "    <tr style=\"text-align: right;\">\n",
       "      <th></th>\n",
       "      <th>model</th>\n",
       "      <th>RMSE_train</th>\n",
       "      <th>RMSE_validate</th>\n",
       "    </tr>\n",
       "  </thead>\n",
       "  <tbody>\n",
       "    <tr>\n",
       "      <th>0</th>\n",
       "      <td>Baseline</td>\n",
       "      <td>207098.033058</td>\n",
       "      <td>207249.76852</td>\n",
       "    </tr>\n",
       "  </tbody>\n",
       "</table>\n",
       "</div>"
      ],
      "text/plain": [
       "      model     RMSE_train  RMSE_validate\n",
       "0  Baseline  207098.033058   207249.76852"
      ]
     },
     "execution_count": 63,
     "metadata": {},
     "output_type": "execute_result"
    }
   ],
   "source": [
    "# We need y_train and y_validate to be dataframes to append the new columns with predicted values. \n",
    "y_train = pd.DataFrame(y_train)\n",
    "y_validate = pd.DataFrame(y_validate)\n",
    "\n",
    "# The Project specs told us to use mean for our baseline\n",
    "# 1. Predict tax_value_pred_mean\n",
    "tax_value_pred_mean = y_train.tax_value.mean()\n",
    "y_train['tax_value_pred_mean'] = tax_value_pred_mean\n",
    "y_validate['tax_value_pred_mean'] = tax_value_pred_mean\n",
    "\n",
    "# 2. RMSE of tax_value_pred_mean\n",
    "rmse_train = mean_squared_error(y_train.tax_value, y_train.tax_value_pred_mean) ** (0.5)\n",
    "rmse_validate = mean_squared_error(y_validate.tax_value, y_validate.tax_value_pred_mean) ** (0.5)\n",
    "\n",
    "metric_df = pd.DataFrame(data=[\n",
    "            {\n",
    "                'model': 'Baseline', \n",
    "                'RMSE_train': rmse_train,\n",
    "                'RMSE_validate': rmse_validate\n",
    "                }\n",
    "            ])\n",
    "metric_df"
   ]
  },
  {
   "cell_type": "code",
   "execution_count": 64,
   "id": "8b3af251",
   "metadata": {},
   "outputs": [
    {
     "data": {
      "text/html": [
       "<div>\n",
       "<style scoped>\n",
       "    .dataframe tbody tr th:only-of-type {\n",
       "        vertical-align: middle;\n",
       "    }\n",
       "\n",
       "    .dataframe tbody tr th {\n",
       "        vertical-align: top;\n",
       "    }\n",
       "\n",
       "    .dataframe thead th {\n",
       "        text-align: right;\n",
       "    }\n",
       "</style>\n",
       "<table border=\"1\" class=\"dataframe\">\n",
       "  <thead>\n",
       "    <tr style=\"text-align: right;\">\n",
       "      <th></th>\n",
       "      <th>tax_value</th>\n",
       "      <th>prediction</th>\n",
       "      <th>OLS</th>\n",
       "      <th>polynomial</th>\n",
       "      <th>tax_value_pred_mean</th>\n",
       "    </tr>\n",
       "  </thead>\n",
       "  <tbody>\n",
       "    <tr>\n",
       "      <th>878659</th>\n",
       "      <td>312730.0</td>\n",
       "      <td>199836.818838</td>\n",
       "      <td>204568.963930</td>\n",
       "      <td>203776.0</td>\n",
       "      <td>334873.875386</td>\n",
       "    </tr>\n",
       "    <tr>\n",
       "      <th>413927</th>\n",
       "      <td>119114.0</td>\n",
       "      <td>209877.094176</td>\n",
       "      <td>215516.025591</td>\n",
       "      <td>213504.0</td>\n",
       "      <td>334873.875386</td>\n",
       "    </tr>\n",
       "    <tr>\n",
       "      <th>316568</th>\n",
       "      <td>337395.0</td>\n",
       "      <td>297197.064540</td>\n",
       "      <td>301456.705578</td>\n",
       "      <td>292864.0</td>\n",
       "      <td>334873.875386</td>\n",
       "    </tr>\n",
       "    <tr>\n",
       "      <th>268737</th>\n",
       "      <td>442718.0</td>\n",
       "      <td>489240.635445</td>\n",
       "      <td>500087.321936</td>\n",
       "      <td>529408.0</td>\n",
       "      <td>334873.875386</td>\n",
       "    </tr>\n",
       "    <tr>\n",
       "      <th>846980</th>\n",
       "      <td>305309.0</td>\n",
       "      <td>242829.400101</td>\n",
       "      <td>240665.749072</td>\n",
       "      <td>239616.0</td>\n",
       "      <td>334873.875386</td>\n",
       "    </tr>\n",
       "    <tr>\n",
       "      <th>...</th>\n",
       "      <td>...</td>\n",
       "      <td>...</td>\n",
       "      <td>...</td>\n",
       "      <td>...</td>\n",
       "      <td>...</td>\n",
       "    </tr>\n",
       "    <tr>\n",
       "      <th>1641722</th>\n",
       "      <td>348000.0</td>\n",
       "      <td>246082.935547</td>\n",
       "      <td>235701.946106</td>\n",
       "      <td>250880.0</td>\n",
       "      <td>334873.875386</td>\n",
       "    </tr>\n",
       "    <tr>\n",
       "      <th>1705191</th>\n",
       "      <td>675535.0</td>\n",
       "      <td>327742.380116</td>\n",
       "      <td>327647.214093</td>\n",
       "      <td>324096.0</td>\n",
       "      <td>334873.875386</td>\n",
       "    </tr>\n",
       "    <tr>\n",
       "      <th>2093474</th>\n",
       "      <td>453562.0</td>\n",
       "      <td>314931.961278</td>\n",
       "      <td>303176.472336</td>\n",
       "      <td>305152.0</td>\n",
       "      <td>334873.875386</td>\n",
       "    </tr>\n",
       "    <tr>\n",
       "      <th>874587</th>\n",
       "      <td>98270.0</td>\n",
       "      <td>259438.082741</td>\n",
       "      <td>274804.478262</td>\n",
       "      <td>249344.0</td>\n",
       "      <td>334873.875386</td>\n",
       "    </tr>\n",
       "    <tr>\n",
       "      <th>1525367</th>\n",
       "      <td>80760.0</td>\n",
       "      <td>234614.629370</td>\n",
       "      <td>230449.975991</td>\n",
       "      <td>232960.0</td>\n",
       "      <td>334873.875386</td>\n",
       "    </tr>\n",
       "  </tbody>\n",
       "</table>\n",
       "<p>1055543 rows × 5 columns</p>\n",
       "</div>"
      ],
      "text/plain": [
       "         tax_value     prediction            OLS  polynomial  \\\n",
       "878659    312730.0  199836.818838  204568.963930    203776.0   \n",
       "413927    119114.0  209877.094176  215516.025591    213504.0   \n",
       "316568    337395.0  297197.064540  301456.705578    292864.0   \n",
       "268737    442718.0  489240.635445  500087.321936    529408.0   \n",
       "846980    305309.0  242829.400101  240665.749072    239616.0   \n",
       "...            ...            ...            ...         ...   \n",
       "1641722   348000.0  246082.935547  235701.946106    250880.0   \n",
       "1705191   675535.0  327742.380116  327647.214093    324096.0   \n",
       "2093474   453562.0  314931.961278  303176.472336    305152.0   \n",
       "874587     98270.0  259438.082741  274804.478262    249344.0   \n",
       "1525367    80760.0  234614.629370  230449.975991    232960.0   \n",
       "\n",
       "         tax_value_pred_mean  \n",
       "878659         334873.875386  \n",
       "413927         334873.875386  \n",
       "316568         334873.875386  \n",
       "268737         334873.875386  \n",
       "846980         334873.875386  \n",
       "...                      ...  \n",
       "1641722        334873.875386  \n",
       "1705191        334873.875386  \n",
       "2093474        334873.875386  \n",
       "874587         334873.875386  \n",
       "1525367        334873.875386  \n",
       "\n",
       "[1055543 rows x 5 columns]"
      ]
     },
     "execution_count": 64,
     "metadata": {},
     "output_type": "execute_result"
    }
   ],
   "source": [
    "y_train"
   ]
  },
  {
   "cell_type": "markdown",
   "id": "8899066a",
   "metadata": {},
   "source": [
    "## Three Models"
   ]
  },
  {
   "cell_type": "markdown",
   "id": "55aaf045",
   "metadata": {},
   "source": [
    "### Multiple Regression + RFE"
   ]
  },
  {
   "cell_type": "code",
   "execution_count": 69,
   "id": "f1786583",
   "metadata": {},
   "outputs": [
    {
     "data": {
      "text/plain": [
       "RFE(estimator=LinearRegression(), n_features_to_select=3)"
      ]
     },
     "execution_count": 69,
     "metadata": {},
     "output_type": "execute_result"
    }
   ],
   "source": [
    "lm0 = sklearn.linear_model.LinearRegression()\n",
    "rfe = sklearn.feature_selection.RFE(lm0, n_features_to_select=3)\n",
    "\n",
    "    # Fit the thing\n",
    "rfe.fit(X_train_scaled, y_train.tax_value)"
   ]
  },
  {
   "cell_type": "code",
   "execution_count": 70,
   "id": "6d1004df",
   "metadata": {},
   "outputs": [
    {
     "data": {
      "text/plain": [
       "Index(['bedrooms', 'bathrooms', 'area'], dtype='object')"
      ]
     },
     "execution_count": 70,
     "metadata": {},
     "output_type": "execute_result"
    }
   ],
   "source": [
    "X_train_scaled.columns[rfe.get_support()]# Get list of top K features. "
   ]
  },
  {
   "cell_type": "code",
   "execution_count": 71,
   "id": "d4757ed8",
   "metadata": {},
   "outputs": [],
   "source": [
    "# use the thing!\n",
    "y_train['prediction'] = rfe.predict(X_train_scaled)"
   ]
  },
  {
   "cell_type": "code",
   "execution_count": 72,
   "id": "7b4a68fe",
   "metadata": {},
   "outputs": [
    {
     "name": "stdout",
     "output_type": "stream",
     "text": [
      "RMSE for Multiple Regression + RFE using LinearRegression\n",
      "Training/In-Sample:  185207.45220666289 \n",
      "Validation/Out-of-Sample:  185096.94723712926\n"
     ]
    }
   ],
   "source": [
    "# evaluate: rmse\n",
    "rmse_train = mean_squared_error(y_train.tax_value, y_train.prediction) ** (1/2)\n",
    "\n",
    "# predict validate\n",
    "y_validate['prediction'] = rfe.predict(X_validate_scaled)\n",
    "\n",
    "# evaluate: rmse\n",
    "rmse_validate = mean_squared_error(y_validate.tax_value, y_validate.prediction) ** (1/2)\n",
    "\n",
    "print(\"RMSE for Multiple Regression + RFE using LinearRegression\\nTraining/In-Sample: \", rmse_train, \n",
    "      \"\\nValidation/Out-of-Sample: \", rmse_validate)"
   ]
  },
  {
   "cell_type": "code",
   "execution_count": 43,
   "id": "668350d5",
   "metadata": {},
   "outputs": [
    {
     "data": {
      "text/html": [
       "<div>\n",
       "<style scoped>\n",
       "    .dataframe tbody tr th:only-of-type {\n",
       "        vertical-align: middle;\n",
       "    }\n",
       "\n",
       "    .dataframe tbody tr th {\n",
       "        vertical-align: top;\n",
       "    }\n",
       "\n",
       "    .dataframe thead th {\n",
       "        text-align: right;\n",
       "    }\n",
       "</style>\n",
       "<table border=\"1\" class=\"dataframe\">\n",
       "  <thead>\n",
       "    <tr style=\"text-align: right;\">\n",
       "      <th></th>\n",
       "      <th>model</th>\n",
       "      <th>RMSE_train</th>\n",
       "      <th>RMSE_validate</th>\n",
       "    </tr>\n",
       "  </thead>\n",
       "  <tbody>\n",
       "    <tr>\n",
       "      <th>0</th>\n",
       "      <td>Baseline</td>\n",
       "      <td>207098.033058</td>\n",
       "      <td>207249.768520</td>\n",
       "    </tr>\n",
       "    <tr>\n",
       "      <th>1</th>\n",
       "      <td>Multiple Regression + RFE</td>\n",
       "      <td>185207.452207</td>\n",
       "      <td>185096.947237</td>\n",
       "    </tr>\n",
       "  </tbody>\n",
       "</table>\n",
       "</div>"
      ],
      "text/plain": [
       "                       model     RMSE_train  RMSE_validate\n",
       "0                   Baseline  207098.033058  207249.768520\n",
       "1  Multiple Regression + RFE  185207.452207  185096.947237"
      ]
     },
     "execution_count": 43,
     "metadata": {},
     "output_type": "execute_result"
    }
   ],
   "source": [
    "metric_df = metric_df.append({\n",
    "    'model': 'Multiple Regression + RFE', \n",
    "    'RMSE_train': rmse_train,\n",
    "    'RMSE_validate': rmse_validate,\n",
    "    }, ignore_index=True)\n",
    "metric_df"
   ]
  },
  {
   "cell_type": "markdown",
   "id": "2c5ca444",
   "metadata": {},
   "source": [
    "### LinearRegression (OLS)"
   ]
  },
  {
   "cell_type": "code",
   "execution_count": 73,
   "id": "1f7567ee",
   "metadata": {},
   "outputs": [
    {
     "data": {
      "text/plain": [
       "LinearRegression()"
      ]
     },
     "execution_count": 73,
     "metadata": {},
     "output_type": "execute_result"
    }
   ],
   "source": [
    "lm1 = LinearRegression()\n",
    "lm1.fit(X_train_scaled, y_train.tax_value)"
   ]
  },
  {
   "cell_type": "code",
   "execution_count": 74,
   "id": "a22aa8ea",
   "metadata": {},
   "outputs": [],
   "source": [
    "# predict train\n",
    "# \n",
    "# use the thing!\n",
    "# \n",
    "y_train['OLS'] = lm.predict(X_train_scaled)"
   ]
  },
  {
   "cell_type": "code",
   "execution_count": 75,
   "id": "a632ebf5",
   "metadata": {},
   "outputs": [
    {
     "name": "stdout",
     "output_type": "stream",
     "text": [
      "RMSE for OLS using LinearRegression\n",
      "Training/In-Sample:  184974.948750624 \n",
      "Validation/Out-of-Sample:  184859.19545305613\n"
     ]
    }
   ],
   "source": [
    "# evaluate: rmse\n",
    "rmse_train = mean_squared_error(y_train.tax_value, y_train.OLS) ** (1/2)\n",
    "\n",
    "# predict validate\n",
    "y_validate['OLS'] = lm.predict(X_validate_scaled)\n",
    "\n",
    "# evaluate: rmse\n",
    "rmse_validate = mean_squared_error(y_validate.tax_value, y_validate.OLS) ** (1/2)\n",
    "\n",
    "print(\"RMSE for OLS using LinearRegression\\nTraining/In-Sample: \", rmse_train, \n",
    "      \"\\nValidation/Out-of-Sample: \", rmse_validate)"
   ]
  },
  {
   "cell_type": "code",
   "execution_count": 47,
   "id": "0ff34579",
   "metadata": {},
   "outputs": [
    {
     "data": {
      "text/html": [
       "<div>\n",
       "<style scoped>\n",
       "    .dataframe tbody tr th:only-of-type {\n",
       "        vertical-align: middle;\n",
       "    }\n",
       "\n",
       "    .dataframe tbody tr th {\n",
       "        vertical-align: top;\n",
       "    }\n",
       "\n",
       "    .dataframe thead th {\n",
       "        text-align: right;\n",
       "    }\n",
       "</style>\n",
       "<table border=\"1\" class=\"dataframe\">\n",
       "  <thead>\n",
       "    <tr style=\"text-align: right;\">\n",
       "      <th></th>\n",
       "      <th>model</th>\n",
       "      <th>RMSE_train</th>\n",
       "      <th>RMSE_validate</th>\n",
       "    </tr>\n",
       "  </thead>\n",
       "  <tbody>\n",
       "    <tr>\n",
       "      <th>0</th>\n",
       "      <td>Baseline</td>\n",
       "      <td>207098.033058</td>\n",
       "      <td>207249.768520</td>\n",
       "    </tr>\n",
       "    <tr>\n",
       "      <th>1</th>\n",
       "      <td>Multiple Regression + RFE</td>\n",
       "      <td>185207.452207</td>\n",
       "      <td>185096.947237</td>\n",
       "    </tr>\n",
       "    <tr>\n",
       "      <th>2</th>\n",
       "      <td>OLS Regressor</td>\n",
       "      <td>184974.948751</td>\n",
       "      <td>184859.195453</td>\n",
       "    </tr>\n",
       "  </tbody>\n",
       "</table>\n",
       "</div>"
      ],
      "text/plain": [
       "                       model     RMSE_train  RMSE_validate\n",
       "0                   Baseline  207098.033058  207249.768520\n",
       "1  Multiple Regression + RFE  185207.452207  185096.947237\n",
       "2              OLS Regressor  184974.948751  184859.195453"
      ]
     },
     "execution_count": 47,
     "metadata": {},
     "output_type": "execute_result"
    }
   ],
   "source": [
    "metric_df = metric_df.append({\n",
    "    'model': 'OLS Regressor', \n",
    "    'RMSE_train': rmse_train,\n",
    "    'RMSE_validate': rmse_validate,\n",
    "    }, ignore_index=True)\n",
    "metric_df"
   ]
  },
  {
   "cell_type": "markdown",
   "id": "f593c7ce",
   "metadata": {},
   "source": [
    "### LinearRegression (OLS)\n"
   ]
  },
  {
   "cell_type": "markdown",
   "id": "d2681476",
   "metadata": {},
   "source": [
    "## Polynomial"
   ]
  },
  {
   "cell_type": "code",
   "execution_count": 50,
   "id": "520dd0f6",
   "metadata": {},
   "outputs": [],
   "source": [
    "from sklearn.preprocessing import PolynomialFeatures"
   ]
  },
  {
   "cell_type": "code",
   "execution_count": 51,
   "id": "418d150c",
   "metadata": {},
   "outputs": [],
   "source": [
    "# make the polynomial features to get a new set of features\n",
    "pf = PolynomialFeatures(degree=2)\n",
    "\n",
    "# fit and transform X_train_scaled\n",
    "X_train_degree2 = pf.fit_transform(X_train_scaled)\n",
    "\n",
    "# transform X_validate_scaled & X_test_scaled\n",
    "X_validate_degree2 = pf.transform(X_validate_scaled)\n",
    "X_test_degree2 = pf.transform(X_test_scaled)"
   ]
  },
  {
   "cell_type": "code",
   "execution_count": 52,
   "id": "44b207cc",
   "metadata": {},
   "outputs": [
    {
     "name": "stdout",
     "output_type": "stream",
     "text": [
      "RMSE for Polynomial Model, degrees=2\n",
      "Training/In-Sample:  184405.6898627343 \n",
      "Validation/Out-of-Sample:  184353.5279227611\n"
     ]
    }
   ],
   "source": [
    "# create the model object\n",
    "lm2 = LinearRegression(normalize=True)\n",
    "\n",
    "# fit the model to our training data. We must specify the column in y_train, \n",
    "# since we have converted it to a dataframe from a series! \n",
    "lm2.fit(X_train_degree2, y_train.tax_value)\n",
    "\n",
    "# predict train\n",
    "y_train['polynomial'] = lm2.predict(X_train_degree2)\n",
    "\n",
    "# evaluate: rmse\n",
    "rmse_train = mean_squared_error(y_train.tax_value, y_train.polynomial)**(1/2)\n",
    "\n",
    "# predict validate\n",
    "y_validate['polynomial'] = lm2.predict(X_validate_degree2)\n",
    "\n",
    "# evaluate: rmse\n",
    "rmse_validate = mean_squared_error(y_validate.tax_value, y_validate.polynomial)**(1/2)\n",
    "\n",
    "print(\"RMSE for Polynomial Model, degrees=2\\nTraining/In-Sample: \", rmse_train, \n",
    "      \"\\nValidation/Out-of-Sample: \", rmse_validate)\n"
   ]
  },
  {
   "cell_type": "code",
   "execution_count": 53,
   "id": "33ba9502",
   "metadata": {},
   "outputs": [
    {
     "data": {
      "text/html": [
       "<div>\n",
       "<style scoped>\n",
       "    .dataframe tbody tr th:only-of-type {\n",
       "        vertical-align: middle;\n",
       "    }\n",
       "\n",
       "    .dataframe tbody tr th {\n",
       "        vertical-align: top;\n",
       "    }\n",
       "\n",
       "    .dataframe thead th {\n",
       "        text-align: right;\n",
       "    }\n",
       "</style>\n",
       "<table border=\"1\" class=\"dataframe\">\n",
       "  <thead>\n",
       "    <tr style=\"text-align: right;\">\n",
       "      <th></th>\n",
       "      <th>model</th>\n",
       "      <th>RMSE_train</th>\n",
       "      <th>RMSE_validate</th>\n",
       "    </tr>\n",
       "  </thead>\n",
       "  <tbody>\n",
       "    <tr>\n",
       "      <th>0</th>\n",
       "      <td>Baseline</td>\n",
       "      <td>207098.033058</td>\n",
       "      <td>207249.768520</td>\n",
       "    </tr>\n",
       "    <tr>\n",
       "      <th>1</th>\n",
       "      <td>Multiple Regression + RFE</td>\n",
       "      <td>185207.452207</td>\n",
       "      <td>185096.947237</td>\n",
       "    </tr>\n",
       "    <tr>\n",
       "      <th>2</th>\n",
       "      <td>OLS Regressor</td>\n",
       "      <td>184974.948751</td>\n",
       "      <td>184859.195453</td>\n",
       "    </tr>\n",
       "    <tr>\n",
       "      <th>3</th>\n",
       "      <td>polynomial</td>\n",
       "      <td>184405.689863</td>\n",
       "      <td>184353.527923</td>\n",
       "    </tr>\n",
       "  </tbody>\n",
       "</table>\n",
       "</div>"
      ],
      "text/plain": [
       "                       model     RMSE_train  RMSE_validate\n",
       "0                   Baseline  207098.033058  207249.768520\n",
       "1  Multiple Regression + RFE  185207.452207  185096.947237\n",
       "2              OLS Regressor  184974.948751  184859.195453\n",
       "3                 polynomial  184405.689863  184353.527923"
      ]
     },
     "execution_count": 53,
     "metadata": {},
     "output_type": "execute_result"
    }
   ],
   "source": [
    "metric_df = metric_df.append({\n",
    "    'model': 'polynomial', \n",
    "    'RMSE_train': rmse_train,\n",
    "    'RMSE_validate': rmse_validate,\n",
    "    }, ignore_index=True)\n",
    "metric_df"
   ]
  },
  {
   "cell_type": "code",
   "execution_count": 56,
   "id": "ad6acfcd",
   "metadata": {},
   "outputs": [
    {
     "data": {
      "text/plain": [
       "22896.240597000025"
      ]
     },
     "execution_count": 56,
     "metadata": {},
     "output_type": "execute_result"
    }
   ],
   "source": [
    "207249.768520 - 184353.527923"
   ]
  },
  {
   "cell_type": "markdown",
   "id": "da2ce56b",
   "metadata": {},
   "source": [
    "### Evaluate on Test"
   ]
  },
  {
   "cell_type": "markdown",
   "id": "b1be207e",
   "metadata": {},
   "source": [
    "The polynomial Model had the best Root Mean Squared Error.\n",
    "Validate Dataset had an RMSE of $184353.\n",
    "I will use OLS Regressor for my Test Dataset!"
   ]
  },
  {
   "cell_type": "code",
   "execution_count": 55,
   "id": "d4e36216",
   "metadata": {},
   "outputs": [
    {
     "data": {
      "text/plain": [
       "184353.5279227611"
      ]
     },
     "execution_count": 55,
     "metadata": {},
     "output_type": "execute_result"
    }
   ],
   "source": [
    "\n",
    "# predict validate\n",
    "y_test['polynomial'] = lm2.predict(X_test_degree2)\n",
    "\n",
    "# evaluate: rmse\n",
    "rmse_test = mean_squared_error(y_validate.tax_value, y_validate.polynomial)**(1/2)\n",
    "\n",
    "rmse_test"
   ]
  },
  {
   "cell_type": "markdown",
   "id": "ffb34401",
   "metadata": {},
   "source": [
    "## My polynomial Model had a Root Mean Squared Error (RMSE) of $184353. \n",
    "\n",
    "## Beating my Baseline RMSE of $22896"
   ]
  },
  {
   "cell_type": "code",
   "execution_count": 68,
   "id": "7dc34bbd",
   "metadata": {},
   "outputs": [
    {
     "data": {
      "image/png": "[encoded data removed]",
      "text/plain": [
       "<Figure size 1152x576 with 1 Axes>"
      ]
     },
     "metadata": {},
     "output_type": "display_data"
    }
   ],
   "source": [
    "plt.figure(figsize=(16,8))\n",
    "plt.plot(y_train.tax_value, y_train.tax_value_pred_mean)\n",
    "# plt.plot(y_train.tax_value, y_train.tax_value_pred_mean, alpha=.5, color=\"gray\", label='_nolegend_')\n",
    "# plt.annotate(\"Baseline: Predict Using Mean\", (16, 9.5))\n",
    "plt.plot(y_train.tax_value, y_train.tax_value, alpha=.5, color=\"blue\", label='_nolegend_')\n",
    "plt.annotate(\"The Ideal Line: Predicted = Actual\", (.5, 3.5), rotation=15.5)\n",
    "\n",
    "\n",
    "plt.scatter(y_train.tax_value, y_train.polynomial,alpha=.5, color=\"green\", s=100, label=\"Model 2nd degree Polynomial\")\n",
    "# plt.legend()\n",
    "# plt.xlabel(\"Actual Final Grade\")\n",
    "# plt.ylabel(\"Predicted Final Grade\")\n",
    "# plt.title(\"Where are predictions more extreme? More modest?\")\n",
    "# plt.annotate(\"The polynomial model appears to overreact to noise\", (2.0, -10))\n",
    "# plt.annotate(\"The OLS model (LinearRegression)\\n appears to be most consistent\", (15.5, 3))\n",
    "plt.show()\n"
   ]
  },
  {
   "cell_type": "code",
   "execution_count": 76,
   "id": "9978726c",
   "metadata": {},
   "outputs": [
    {
     "data": {
      "text/html": [
       "<div>\n",
       "<style scoped>\n",
       "    .dataframe tbody tr th:only-of-type {\n",
       "        vertical-align: middle;\n",
       "    }\n",
       "\n",
       "    .dataframe tbody tr th {\n",
       "        vertical-align: top;\n",
       "    }\n",
       "\n",
       "    .dataframe thead th {\n",
       "        text-align: right;\n",
       "    }\n",
       "</style>\n",
       "<table border=\"1\" class=\"dataframe\">\n",
       "  <thead>\n",
       "    <tr style=\"text-align: right;\">\n",
       "      <th></th>\n",
       "      <th>tax_value</th>\n",
       "      <th>prediction</th>\n",
       "      <th>OLS</th>\n",
       "      <th>polynomial</th>\n",
       "      <th>tax_value_pred_mean</th>\n",
       "    </tr>\n",
       "  </thead>\n",
       "  <tbody>\n",
       "    <tr>\n",
       "      <th>878659</th>\n",
       "      <td>312730.0</td>\n",
       "      <td>199836.818838</td>\n",
       "      <td>204568.963930</td>\n",
       "      <td>203776.0</td>\n",
       "      <td>334873.875386</td>\n",
       "    </tr>\n",
       "    <tr>\n",
       "      <th>413927</th>\n",
       "      <td>119114.0</td>\n",
       "      <td>209877.094176</td>\n",
       "      <td>215516.025591</td>\n",
       "      <td>213504.0</td>\n",
       "      <td>334873.875386</td>\n",
       "    </tr>\n",
       "    <tr>\n",
       "      <th>316568</th>\n",
       "      <td>337395.0</td>\n",
       "      <td>297197.064540</td>\n",
       "      <td>301456.705578</td>\n",
       "      <td>292864.0</td>\n",
       "      <td>334873.875386</td>\n",
       "    </tr>\n",
       "    <tr>\n",
       "      <th>268737</th>\n",
       "      <td>442718.0</td>\n",
       "      <td>489240.635445</td>\n",
       "      <td>500087.321936</td>\n",
       "      <td>529408.0</td>\n",
       "      <td>334873.875386</td>\n",
       "    </tr>\n",
       "    <tr>\n",
       "      <th>846980</th>\n",
       "      <td>305309.0</td>\n",
       "      <td>242829.400101</td>\n",
       "      <td>240665.749072</td>\n",
       "      <td>239616.0</td>\n",
       "      <td>334873.875386</td>\n",
       "    </tr>\n",
       "    <tr>\n",
       "      <th>...</th>\n",
       "      <td>...</td>\n",
       "      <td>...</td>\n",
       "      <td>...</td>\n",
       "      <td>...</td>\n",
       "      <td>...</td>\n",
       "    </tr>\n",
       "    <tr>\n",
       "      <th>1641722</th>\n",
       "      <td>348000.0</td>\n",
       "      <td>246082.935547</td>\n",
       "      <td>235701.946106</td>\n",
       "      <td>250880.0</td>\n",
       "      <td>334873.875386</td>\n",
       "    </tr>\n",
       "    <tr>\n",
       "      <th>1705191</th>\n",
       "      <td>675535.0</td>\n",
       "      <td>327742.380116</td>\n",
       "      <td>327647.214093</td>\n",
       "      <td>324096.0</td>\n",
       "      <td>334873.875386</td>\n",
       "    </tr>\n",
       "    <tr>\n",
       "      <th>2093474</th>\n",
       "      <td>453562.0</td>\n",
       "      <td>314931.961278</td>\n",
       "      <td>303176.472336</td>\n",
       "      <td>305152.0</td>\n",
       "      <td>334873.875386</td>\n",
       "    </tr>\n",
       "    <tr>\n",
       "      <th>874587</th>\n",
       "      <td>98270.0</td>\n",
       "      <td>259438.082741</td>\n",
       "      <td>274804.478262</td>\n",
       "      <td>249344.0</td>\n",
       "      <td>334873.875386</td>\n",
       "    </tr>\n",
       "    <tr>\n",
       "      <th>1525367</th>\n",
       "      <td>80760.0</td>\n",
       "      <td>234614.629370</td>\n",
       "      <td>230449.975991</td>\n",
       "      <td>232960.0</td>\n",
       "      <td>334873.875386</td>\n",
       "    </tr>\n",
       "  </tbody>\n",
       "</table>\n",
       "<p>1055543 rows × 5 columns</p>\n",
       "</div>"
      ],
      "text/plain": [
       "         tax_value     prediction            OLS  polynomial  \\\n",
       "878659    312730.0  199836.818838  204568.963930    203776.0   \n",
       "413927    119114.0  209877.094176  215516.025591    213504.0   \n",
       "316568    337395.0  297197.064540  301456.705578    292864.0   \n",
       "268737    442718.0  489240.635445  500087.321936    529408.0   \n",
       "846980    305309.0  242829.400101  240665.749072    239616.0   \n",
       "...            ...            ...            ...         ...   \n",
       "1641722   348000.0  246082.935547  235701.946106    250880.0   \n",
       "1705191   675535.0  327742.380116  327647.214093    324096.0   \n",
       "2093474   453562.0  314931.961278  303176.472336    305152.0   \n",
       "874587     98270.0  259438.082741  274804.478262    249344.0   \n",
       "1525367    80760.0  234614.629370  230449.975991    232960.0   \n",
       "\n",
       "         tax_value_pred_mean  \n",
       "878659         334873.875386  \n",
       "413927         334873.875386  \n",
       "316568         334873.875386  \n",
       "268737         334873.875386  \n",
       "846980         334873.875386  \n",
       "...                      ...  \n",
       "1641722        334873.875386  \n",
       "1705191        334873.875386  \n",
       "2093474        334873.875386  \n",
       "874587         334873.875386  \n",
       "1525367        334873.875386  \n",
       "\n",
       "[1055543 rows x 5 columns]"
      ]
     },
     "execution_count": 76,
     "metadata": {},
     "output_type": "execute_result"
    }
   ],
   "source": [
    "y_train"
   ]
  },
  {
   "cell_type": "code",
   "execution_count": 77,
   "id": "ace4dc94",
   "metadata": {},
   "outputs": [
    {
     "data": {
      "image/png": "[encoded data removed]",
      "text/plain": [
       "<Figure size 1152x576 with 1 Axes>"
      ]
     },
     "metadata": {},
     "output_type": "display_data"
    }
   ],
   "source": [
    "# plot to visualize actual vs predicted. \n",
    "plt.figure(figsize=(16,8))\n",
    "plt.hist(y_train.tax_value, color='blue', alpha=.5, label=\"Actual Final Grades\")\n",
    "plt.hist(y_train.prediction, color='red', alpha=.5, label=\"Model: LinearRegression\")\n",
    "plt.hist(y_train.OLS, color='yellow', alpha=.5, label=\"Model: Lars\")\n",
    "plt.hist(y_train.polynomial, color='green', alpha=.5, label=\"Model 2nd degree Polynomial\")\n",
    "plt.xlabel(\"Tax Value\")\n",
    "plt.ylabel(\"Tax Total\")\n",
    "plt.title(\"Comparing the Distribution of Actual Tax Value to Distributions of Predicted Tax Value for the Top Models\")\n",
    "plt.legend()\n",
    "plt.show()"
   ]
  },
  {
   "cell_type": "markdown",
   "id": "7e829fbe",
   "metadata": {},
   "source": [
    "# Key Findings "
   ]
  },
  {
   "cell_type": "markdown",
   "id": "77146f25",
   "metadata": {},
   "source": [
    "\n",
    "There is somewhat of a relationship between bathrooms, square feet, and bedroom count in predicting the tax value dollar count of single family units. Bathrooms were shown as the biggest driver while the size of the unit followed. The number of bedrooms was the least greatest factor among the three when it comes to the home value."
   ]
  },
  {
   "cell_type": "markdown",
   "id": "c184edde",
   "metadata": {},
   "source": [
    "# Recomandations"
   ]
  },
  {
   "cell_type": "code",
   "execution_count": null,
   "id": "2d9a1ca1",
   "metadata": {},
   "outputs": [],
   "source": []
  },
  {
   "cell_type": "markdown",
   "id": "166fde93",
   "metadata": {},
   "source": [
    "# Next Steps"
   ]
  },
  {
   "cell_type": "markdown",
   "id": "7a559098",
   "metadata": {},
   "source": [
    "With more time I would work on improving the model adding more parameters\n"
   ]
  },
  {
   "cell_type": "code",
   "execution_count": null,
   "id": "f7c71573",
   "metadata": {},
   "outputs": [],
   "source": []
  }
 ],
 "metadata": {
  "kernelspec": {
   "display_name": "Python 3 (ipykernel)",
   "language": "python",
   "name": "python3"
  },
  "language_info": {
   "codemirror_mode": {
    "name": "ipython",
    "version": 3
   },
   "file_extension": ".py",
   "mimetype": "text/x-python",
   "name": "python",
   "nbconvert_exporter": "python",
   "pygments_lexer": "ipython3",
   "version": "3.9.7"
  }
 },
 "nbformat": 4,
 "nbformat_minor": 5
}
